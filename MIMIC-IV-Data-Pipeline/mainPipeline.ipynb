{
 "cells": [
  {
   "cell_type": "code",
   "execution_count": 1,
   "id": "available-albany",
   "metadata": {},
   "outputs": [],
   "source": [
    "import ipywidgets as widgets\n",
    "import sys\n",
    "from pathlib import Path\n",
    "import os\n",
    "import importlib\n",
    "\n",
    "\n",
    "module_path='preprocessing/day_intervals_preproc'\n",
    "if module_path not in sys.path:\n",
    "    sys.path.append(module_path)\n",
    "\n",
    "module_path='utils'\n",
    "if module_path not in sys.path:\n",
    "    sys.path.append(module_path)\n",
    "    \n",
    "module_path='preprocessing/hosp_module_preproc'\n",
    "if module_path not in sys.path:\n",
    "    sys.path.append(module_path)\n",
    "    \n",
    "module_path='model'\n",
    "if module_path not in sys.path:\n",
    "    sys.path.append(module_path)\n",
    "#print(sys.path)\n",
    "root_dir = os.path.dirname(os.path.abspath('UserInterface.ipynb'))\n",
    "import day_intervals_cohort\n",
    "from day_intervals_cohort import *\n",
    "\n",
    "import day_intervals_cohort_v2\n",
    "from day_intervals_cohort_v2 import *\n",
    "\n",
    "import data_generation_icu\n",
    "\n",
    "import data_generation\n",
    "import evaluation\n",
    "\n",
    "import feature_selection_hosp\n",
    "from feature_selection_hosp import *\n",
    "\n",
    "# import train\n",
    "# from train import *\n",
    "\n",
    "\n",
    "# import ml_models\n",
    "# from ml_models import *\n",
    "\n",
    "# import dl_train\n",
    "# from dl_train import *\n",
    "\n",
    "import tokenization\n",
    "from tokenization import *\n",
    "\n",
    "\n",
    "# import behrt_train\n",
    "# from behrt_train import *\n",
    "\n",
    "import feature_selection_icu\n",
    "from feature_selection_icu import *\n",
    "import fairness\n",
    "import callibrate_output"
   ]
  },
  {
   "cell_type": "code",
   "execution_count": 2,
   "id": "nutritional-chicago",
   "metadata": {},
   "outputs": [],
   "source": [
    "importlib.reload(day_intervals_cohort)\n",
    "import day_intervals_cohort\n",
    "from day_intervals_cohort import *\n",
    "\n",
    "importlib.reload(day_intervals_cohort_v2)\n",
    "import day_intervals_cohort_v2\n",
    "from day_intervals_cohort_v2 import *\n",
    "\n",
    "importlib.reload(data_generation_icu)\n",
    "import data_generation_icu\n",
    "importlib.reload(data_generation)\n",
    "import data_generation\n",
    "\n",
    "importlib.reload(feature_selection_hosp)\n",
    "import feature_selection_hosp\n",
    "from feature_selection_hosp import *\n",
    "\n",
    "importlib.reload(feature_selection_icu)\n",
    "import feature_selection_icu\n",
    "from feature_selection_icu import *\n",
    "\n",
    "importlib.reload(tokenization)\n",
    "import tokenization\n",
    "from tokenization import *\n",
    "\n",
    "# importlib.reload(ml_models)\n",
    "# import ml_models\n",
    "# from ml_models import *\n",
    "\n",
    "# importlib.reload(dl_train)\n",
    "# import dl_train\n",
    "# from dl_train import *\n",
    "\n",
    "# importlib.reload(behrt_train)\n",
    "# import behrt_train\n",
    "# from behrt_train import *\n",
    "\n",
    "# importlib.reload(fairness)\n",
    "# import fairness\n",
    "\n",
    "# importlib.reload(callibrate_output)\n",
    "# import callibrate_output\n",
    "\n",
    "# importlib.reload(evaluation)\n",
    "# import evaluation"
   ]
  },
  {
   "cell_type": "markdown",
   "id": "eligible-demand",
   "metadata": {},
   "source": [
    "# Welcome to your MIMIC-IV Project"
   ]
  },
  {
   "cell_type": "markdown",
   "id": "jewish-crown",
   "metadata": {},
   "source": [
    "This repository explains the steps to download and clean MIMIC-IV dataset for analysis.\n",
    "The repository is compatible with MIMIC-IV v1.0 and MIMIC-IV v2.0\n",
    "\n",
    "Please go to:\n",
    "- https://physionet.org/content/mimiciv/1.0/ for v1.0\n",
    "- https://physionet.org/content/mimiciv/2.0/ for v2.0\n",
    "\n",
    "Follow instructions to get access to MIMIC-IV dataset.\n",
    "\n",
    "Download the files using your terminal: \n",
    "- wget -r -N -c -np --user mehakg --ask-password https://physionet.org/files/mimiciv/1.0/ or\n",
    "- wget -r -N -c -np --user mehakg --ask-password https://physionet.org/files/mimiciv/2.0/\n",
    "        \n",
    "\n",
    "Save downloaded files in the parent directory of this github repo. \n",
    "\n",
    "The structure should look like below for v1.0-\n",
    "- mimiciv/1.0/core\n",
    "- mimiciv/1.0/hosp\n",
    "- mimiciv/1.0/icu\n",
    "\n",
    "The structure should look like below for v2.0-\n",
    "- mimiciv/2.0/hosp\n",
    "- mimiciv/2.0/icu"
   ]
  },
  {
   "cell_type": "markdown",
   "id": "happy-tissue",
   "metadata": {},
   "source": [
    "## 1. DATA EXTRACTION\n",
    "Please run below cell to select option for cohort selection.\n",
    "The cohort will be svaed in **./data/cohort/**"
   ]
  },
  {
   "cell_type": "code",
   "execution_count": 4,
   "id": "structured-dimension",
   "metadata": {
    "tags": [
     "{",
     "\"tags\":",
     "[",
     "\"hide-input\"",
     "]",
     "}"
    ]
   },
   "outputs": [
    {
     "name": "stdout",
     "output_type": "stream",
     "text": [
      "Please select the approriate version of MIMIC-IV for which you have downloaded data ?\n"
     ]
    },
    {
     "data": {
      "application/vnd.jupyter.widget-view+json": {
       "model_id": "96995b147e044a149c535a641ef5ce84",
       "version_major": 2,
       "version_minor": 0
      },
      "text/plain": [
       "RadioButtons(options=('Version 1', 'Version 2'), value='Version 1')"
      ]
     },
     "metadata": {},
     "output_type": "display_data"
    },
    {
     "name": "stdout",
     "output_type": "stream",
     "text": [
      "Please select what prediction task you want to perform ?\n"
     ]
    },
    {
     "data": {
      "application/vnd.jupyter.widget-view+json": {
       "model_id": "d70355633cc9462b847769f87548e757",
       "version_major": 2,
       "version_minor": 0
      },
      "text/plain": [
       "RadioButtons(options=('Mortality', 'Length of Stay', 'Readmission', 'Phenotype'), value='Mortality')"
      ]
     },
     "metadata": {},
     "output_type": "display_data"
    }
   ],
   "source": [
    "print(\"Please select the approriate version of MIMIC-IV for which you have downloaded data ?\")\n",
    "version = widgets.RadioButtons(options=['Version 1','Version 2'],value='Version 1')\n",
    "display(version)\n",
    "\n",
    "print(\"Please select what prediction task you want to perform ?\")\n",
    "radio_input4 = widgets.RadioButtons(options=['Mortality','Length of Stay','Readmission','Phenotype'],value='Mortality')\n",
    "display(radio_input4)\n"
   ]
  },
  {
   "cell_type": "markdown",
   "id": "written-syndicate",
   "metadata": {},
   "source": [
    "### Refining Cohort and Prediction Task Definition\n",
    "\n",
    "Based on your current selection following block will provide option to further refine prediction task and cohort associated with it:\n",
    "\n",
    "- First you will refine the prediction task choosing from following options -\n",
    "    - **length of Stay** - You can select from two predefined options or enter custom number of days to predict length os stay greater than number of days.\n",
    "\n",
    "    - **Readmission** - You can select from two predefined options or enter custom number of days to predict readmission after \"number of days\" after previous admission.\n",
    "\n",
    "    - **Phenotype Prediction** - You can select from four major chronic diseases to predict its future outcome\n",
    "\n",
    "        - Heart failure\n",
    "        - CAD (Coronary Artery Disease)\n",
    "        - CKD (Chronic Kidney Disease)\n",
    "        - COPD (Chronic obstructive pulmonary disease)\n",
    "\n",
    "- Second, you will choode whether to perfom above task using ICU or non-ICU admissions data\n",
    "\n",
    "- Third, you can refine the refine the cohort selection for any of the above choosen prediction tasks by including the admission samples admitted with particular chronic disease - \n",
    "    - Heart failure\n",
    "    - CAD (Coronary Artery Disease)\n",
    "    - CKD (Chronic Kidney Disease)\n",
    "    - COPD (Chronic obstructive pulmonary disease)\n",
    "    \n",
    "print(\"**Please run below cell to extract the cohort for selected options**\")"
   ]
  },
  {
   "cell_type": "code",
   "execution_count": 5,
   "id": "broke-spirituality",
   "metadata": {},
   "outputs": [
    {
     "data": {
      "application/vnd.jupyter.widget-view+json": {
       "model_id": "763372cc6b974139a7d01786bb26c6ec",
       "version_major": 2,
       "version_minor": 0
      },
      "text/plain": [
       "RadioButtons(options=('30 Day Readmission', '60 Day Readmission', '90 Day Readmission', '120 Day Readmission',…"
      ]
     },
     "metadata": {},
     "output_type": "display_data"
    },
    {
     "data": {
      "application/vnd.jupyter.widget-view+json": {
       "model_id": "1f4b35ab986248d29cb0b3d1f6d1a473",
       "version_major": 2,
       "version_minor": 0
      },
      "text/plain": [
       "HBox(children=(Label(value='Readmission after (in days)', layout=Layout(width='180px')), IntSlider(value=30, m…"
      ]
     },
     "metadata": {},
     "output_type": "display_data"
    },
    {
     "name": "stdout",
     "output_type": "stream",
     "text": [
      "Extract Data\n",
      "Please select below if you want to work with ICU or Non-ICU data ?\n"
     ]
    },
    {
     "data": {
      "application/vnd.jupyter.widget-view+json": {
       "model_id": "fd771ce8fc0f4a46aee9989998f61846",
       "version_major": 2,
       "version_minor": 0
      },
      "text/plain": [
       "RadioButtons(options=('ICU', 'Non-ICU'), value='ICU')"
      ]
     },
     "metadata": {},
     "output_type": "display_data"
    },
    {
     "name": "stdout",
     "output_type": "stream",
     "text": [
      "Please select if you want to perform choosen prediction task for a specific disease.\n"
     ]
    },
    {
     "data": {
      "application/vnd.jupyter.widget-view+json": {
       "model_id": "91ebdcb14742402793529d962bba145a",
       "version_major": 2,
       "version_minor": 0
      },
      "text/plain": [
       "RadioButtons(options=('No Disease Filter', 'Heart Failure', 'CKD', 'CAD', 'COPD'), value='No Disease Filter')"
      ]
     },
     "metadata": {},
     "output_type": "display_data"
    }
   ],
   "source": [
    "if radio_input4.value=='Length of Stay':\n",
    "    radio_input2 = widgets.RadioButtons(options=['Length of Stay ge 3','Length of Stay ge 7','Custom'],value='Length of Stay ge 3')\n",
    "    display(radio_input2)\n",
    "    text1=widgets.IntSlider(\n",
    "    value=3,\n",
    "    min=1,\n",
    "    max=10,\n",
    "    step=1,\n",
    "    disabled=False,\n",
    "    continuous_update=False,\n",
    "    orientation='horizontal',\n",
    "    readout=True,\n",
    "    readout_format='d'\n",
    ")\n",
    "    display(widgets.HBox([widgets.Label('Length of stay ge (in days)',layout={'width': '180px'}), text1]))\n",
    "elif radio_input4.value=='Readmission':\n",
    "    radio_input2 = widgets.RadioButtons(options=['30 Day Readmission','60 Day Readmission','90 Day Readmission','120 Day Readmission','Custom'],value='30 Day Readmission')\n",
    "    display(radio_input2)\n",
    "    text1=widgets.IntSlider(\n",
    "    value=30,\n",
    "    min=10,\n",
    "    max=150,\n",
    "    step=10,\n",
    "    disabled=False\n",
    "    )\n",
    "    display(widgets.HBox([widgets.Label('Readmission after (in days)',layout={'width': '180px'}), text1]))\n",
    "elif radio_input4.value=='Phenotype':\n",
    "    radio_input2 = widgets.RadioButtons(options=['Heart Failure in 30 days','CAD in 30 days','CKD in 30 days','COPD in 30 days'],value='Heart Failure in 30 days')\n",
    "    display(radio_input2)\n",
    "elif radio_input4.value=='Mortality':\n",
    "    radio_input2 = widgets.RadioButtons(options=['Mortality'],value='Mortality')\n",
    "    #display(radio_input2)\n",
    "\n",
    "print(\"Extract Data\")\n",
    "print(\"Please select below if you want to work with ICU or Non-ICU data ?\")\n",
    "radio_input1 = widgets.RadioButtons(options=['ICU', 'Non-ICU'],value='ICU')\n",
    "display(radio_input1)\n",
    "\n",
    "print(\"Please select if you want to perform choosen prediction task for a specific disease.\")\n",
    "radio_input3 = widgets.RadioButtons(options=['No Disease Filter','Heart Failure','CKD','CAD','COPD'],value='No Disease Filter')\n",
    "display(radio_input3)"
   ]
  },
  {
   "cell_type": "code",
   "execution_count": 16,
   "id": "republican-freight",
   "metadata": {},
   "outputs": [],
   "source": [
    "disease_label=\"\"\n",
    "time=0\n",
    "label=radio_input4.value\n",
    "\n",
    "if label=='Readmission':\n",
    "    if radio_input2.value=='Custom':\n",
    "        time=text1.value\n",
    "    else:\n",
    "        time=int(radio_input2.value.split()[0])\n",
    "elif label=='Length of Stay':\n",
    "    if radio_input2.value=='Custom':\n",
    "        time=text1.value\n",
    "    else:\n",
    "        time=int(radio_input2.value.split()[4])\n",
    "\n",
    "if label=='Phenotype':    \n",
    "    if radio_input2.value=='Heart Failure in 30 days':\n",
    "        label='Readmission'\n",
    "        time=30\n",
    "        disease_label='I50'\n",
    "    elif radio_input2.value=='CAD in 30 days':\n",
    "        label='Readmission'\n",
    "        time=30\n",
    "        disease_label='I25'\n",
    "    elif radio_input2.value=='CKD in 30 days':\n",
    "        label='Readmission'\n",
    "        time=30\n",
    "        disease_label='N18'\n",
    "    elif radio_input2.value=='COPD in 30 days':\n",
    "        label='Readmission'\n",
    "        time=30\n",
    "        disease_label='J44'\n",
    "    \n",
    "data_icu=radio_input1.value==\"ICU\"\n",
    "data_mort=label==\"Mortality\"\n",
    "data_admn=label=='Readmission'\n",
    "data_los=label=='Length of Stay'\n",
    "        \n",
    "\n",
    "if (radio_input3.value==\"Heart Failure\"):\n",
    "    icd_code='I50'\n",
    "elif (radio_input3.value==\"CKD\"):\n",
    "    icd_code='N18'\n",
    "elif (radio_input3.value==\"COPD\"):\n",
    "    icd_code='J44'\n",
    "elif (radio_input3.value==\"CAD\"):\n",
    "    icd_code='I25'\n",
    "else:\n",
    "    icd_code='No Disease Filter'\n",
    "\n",
    "if version.value=='Version 1':\n",
    "    version_path=\"mimiciv/1.0\"\n",
    "    cohort_output = day_intervals_cohort.extract_data(radio_input1.value,label,time,icd_code, root_dir,disease_label)\n",
    "elif version.value=='Version 2':\n",
    "    version_path=\"mimiciv/2.0\"\n",
    "    cohort_output = day_intervals_cohort_v2.extract_data(radio_input1.value,label,time,icd_code, root_dir,disease_label)"
   ]
  },
  {
   "cell_type": "code",
   "execution_count": 1,
   "id": "9885b67d",
   "metadata": {},
   "outputs": [],
   "source": [
    "# import pandas as pd\n",
    "# cohort_output = 'cohort_icu_readmission_60_'\n",
    "# df = pd.read_csv(f'./data/cohort/{cohort_output}.csv.gz', compression='gzip')"
   ]
  },
  {
   "cell_type": "code",
   "execution_count": 52,
   "id": "f5ebe84f",
   "metadata": {},
   "outputs": [
    {
     "name": "stdout",
     "output_type": "stream",
     "text": [
      "# Records before 2016: 62936\n",
      "\n",
      "# Records after 2016: 13604\n"
     ]
    }
   ],
   "source": [
    "# patients_df = pd.read_csv(\n",
    "#             \"mimiciv/1.0/\" + \"core/patients.csv.gz\", compression='gzip', header=0, index_col = None\n",
    "#         )\n",
    "# visit_df = pd.read_csv(\"mimiciv/1.0/\" + \"icu/icustays.csv.gz\", compression='gzip', header=0, index_col=None)\n",
    "# patients_visit_df = patients_df.merge(visit_df, how='inner', left_on='subject_id', right_on='subject_id')\n",
    "# # print(patients_visit_df.head())\n",
    "\n",
    "# patients_visit_df['anchor_year_group_mid'] = (patients_visit_df['anchor_year_group'].str.slice(start=-4).astype(int) + patients_visit_df['anchor_year_group'].str.slice(start=0, stop=4).astype(int))//2\n",
    "\n",
    "# patients_2016 = set(patients_visit_df.loc[patients_visit_df['anchor_year_group_mid']<=2016]['stay_id'].unique())\n",
    "# print(\"# Records before 2016:\", len(patients_2016))\n",
    "\n",
    "# print()\n",
    "# patients_after_2016 = set(patients_visit_df.loc[patients_visit_df['anchor_year_group_mid']>2016]['stay_id'].unique())\n",
    "# print(\"# Records after 2016:\", len(patients_after_2016))"
   ]
  },
  {
   "cell_type": "code",
   "execution_count": 53,
   "id": "097a55a1",
   "metadata": {},
   "outputs": [],
   "source": [
    "# import pickle\n",
    "# f = open('/home/av38898/projects/sdoh/MIMIC-IV-Data-Pipeline/data/dict/dataDic', 'rb')\n",
    "# temp_data = pickle.load(f)\n",
    "# pats = set(temp_data.keys())"
   ]
  },
  {
   "cell_type": "code",
   "execution_count": 57,
   "id": "d75a8136",
   "metadata": {},
   "outputs": [
    {
     "name": "stdout",
     "output_type": "stream",
     "text": [
      "21580\n",
      "17158\n",
      "4422\n",
      "21580\n"
     ]
    }
   ],
   "source": [
    "# print(len(pats))\n",
    "# print(len(patients_2016.intersection(pats)))\n",
    "# print(len(patients_after_2016.intersection(pats)))\n",
    "# print(len(patients_2016.union(patients_after_2016).intersection(pats)))"
   ]
  },
  {
   "cell_type": "code",
   "execution_count": 23,
   "id": "93b53f11",
   "metadata": {},
   "outputs": [],
   "source": [
    "# all_chart_features = set()\n",
    "# all_med_features = set()\n",
    "# all_proc_features = set()\n",
    "# all_out_features = set()\n",
    "# for patient in list(patients_2016.union(patients_after_2016)):\n",
    "#     try:\n",
    "#         all_chart_features.update(temp_data[patient]['Chart']['signal'].keys())\n",
    "#     except Exception as e:\n",
    "#         continue\n",
    "    \n",
    "#     try:\n",
    "#         all_med_features.update(temp_data[patient]['Med']['signal'].keys())\n",
    "#     except Exception as e:\n",
    "#         continue\n",
    "\n",
    "#     try:\n",
    "#         all_proc_features.update(temp_data[patient]['Proc'].keys())\n",
    "#     except Exception as e:\n",
    "#         continue\n",
    "\n",
    "#     try:\n",
    "#         all_out_features.update(temp_data[patient]['Out'].keys())\n",
    "#     except Exception as e:\n",
    "#         continue"
   ]
  },
  {
   "cell_type": "code",
   "execution_count": 24,
   "id": "ed375d21",
   "metadata": {},
   "outputs": [
    {
     "name": "stdout",
     "output_type": "stream",
     "text": [
      "419 176 142 71\n"
     ]
    }
   ],
   "source": [
    "# print(len(all_chart_features), len(all_med_features), len(all_proc_features), len(all_out_features))\n",
    "# all_chart_features, all_med_features, all_proc_features, all_out_features = sorted(list(all_chart_features)), sorted(list(all_med_features)), sorted(list(all_proc_features)), sorted(list(all_out_features))\n",
    "# chart_to_id = {v:k for k,v in enumerate(all_chart_features)}\n",
    "# med_to_id = {v:k+len(chart_to_id) for k,v in enumerate(all_med_features)}\n",
    "# proc_to_id = {v:k+len(chart_to_id)+len(med_to_id) for k,v in enumerate(all_proc_features)}\n",
    "# out_to_id = {v:k+len(chart_to_id)+len(med_to_id)+len(proc_to_id) for k,v in enumerate(all_out_features)}\n",
    "\n",
    "# NUM_FEATURES = len(chart_to_id)+len(med_to_id)+len(proc_to_id)+len(out_to_id)\n",
    "# TIME_WINDOW = 72"
   ]
  },
  {
   "cell_type": "code",
   "execution_count": 25,
   "id": "251da827",
   "metadata": {},
   "outputs": [],
   "source": [
    "# data_pretrain = []\n",
    "# for patient in patients_2016:\n",
    "#     patient_data = []\n",
    "#     for time in range(TIME_WINDOW):\n",
    "#         data_point = [0]*(2*NUM_FEATURES)\n",
    "#         data_point.append(time+1)\n",
    "#         ## check chart signals\n",
    "#         if 'signal' in temp_data[patient]['Chart'] and 'val' in temp_data[patient]['Chart']:\n",
    "#             for chart_feat in temp_data[patient]['Chart']['signal'].keys():\n",
    "#                 feat_id = chart_to_id[chart_feat]\n",
    "#                 if temp_data[patient]['Chart']['signal'][chart_feat][time]:\n",
    "#                     ## set value\n",
    "#                     data_point[feat_id] = temp_data[patient]['Chart']['val'][chart_feat][time]\n",
    "#                     ## set mask\n",
    "#                     data_point[NUM_FEATURES+feat_id] = 1\n",
    "        \n",
    "#         ## check med signals\n",
    "#         if 'signal' in temp_data[patient]['Med'] and 'amount' in temp_data[patient]['Med']:\n",
    "#             for med_feat in temp_data[patient]['Med']['signal'].keys():\n",
    "#                 feat_id = med_to_id[med_feat]\n",
    "#                 if temp_data[patient]['Med']['signal'][med_feat][time]:\n",
    "#                     ## set value\n",
    "#                     data_point[feat_id] = temp_data[patient]['Med']['amount'][med_feat][time]\n",
    "#                     ## set mask\n",
    "#                     data_point[NUM_FEATURES+feat_id] = 1\n",
    "\n",
    "#         ## check proc signals\n",
    "#         for proc_feat in temp_data[patient]['Proc'].keys():\n",
    "#             feat_id = proc_to_id[proc_feat]\n",
    "#             if temp_data[patient]['Proc'][proc_feat][time]:\n",
    "#                 ## set value\n",
    "#                 data_point[feat_id] = 1\n",
    "#                 ## set mask\n",
    "#                 data_point[NUM_FEATURES+feat_id] = 1\n",
    "\n",
    "#         ## check out signals\n",
    "#         for out_feat in temp_data[patient]['Out'].keys():\n",
    "#             feat_id = out_to_id[out_feat]\n",
    "#             if temp_data[patient]['Out'][out_feat][time]:\n",
    "#                 ## set value\n",
    "#                 data_point[feat_id] = 1\n",
    "#                 ## set mask\n",
    "#                 data_point[NUM_FEATURES+feat_id] = 1\n",
    "        \n",
    "#         patient_data.append(data_point)\n",
    "#     data_pretrain.append(patient_data)"
   ]
  },
  {
   "cell_type": "code",
   "execution_count": 26,
   "id": "b9a06414",
   "metadata": {},
   "outputs": [],
   "source": [
    "# import torch\n",
    "# data_pretrain_pt = torch.tensor(data_pretrain)"
   ]
  },
  {
   "cell_type": "code",
   "execution_count": 28,
   "id": "5b9a47c2",
   "metadata": {},
   "outputs": [],
   "source": [
    "# pretrain_data_train = data_pretrain_pt[:int(data_pretrain_pt.shape[0]*0.8)]\n",
    "# pretrain_data_val = data_pretrain_pt[pretrain_data_train.shape[0]:]"
   ]
  },
  {
   "cell_type": "code",
   "execution_count": 30,
   "id": "e1bca72c",
   "metadata": {},
   "outputs": [],
   "source": [
    "# torch.save(pretrain_data_train, '/data/av38898/sdoh/data/pretrain/X_train.pt')\n",
    "# torch.save(pretrain_data_val, '/data/av38898/sdoh/data/pretrain/X_val.pt')"
   ]
  },
  {
   "cell_type": "code",
   "execution_count": 31,
   "id": "0960af47",
   "metadata": {},
   "outputs": [],
   "source": [
    "# data_finetune = []\n",
    "# labels_finetune = []\n",
    "# for patient in patients_after_2016:\n",
    "#     labels_finetune.append(temp_data[patient]['label'])\n",
    "#     patient_data = []\n",
    "#     for time in range(TIME_WINDOW):\n",
    "#         data_point = [0]*(2*NUM_FEATURES)\n",
    "#         data_point.append(time+1)\n",
    "#         ## check chart signals\n",
    "#         if 'signal' in temp_data[patient]['Chart'] and 'val' in temp_data[patient]['Chart']:\n",
    "#             for chart_feat in temp_data[patient]['Chart']['signal'].keys():\n",
    "#                 feat_id = chart_to_id[chart_feat]\n",
    "#                 if temp_data[patient]['Chart']['signal'][chart_feat][time]:\n",
    "#                     ## set value\n",
    "#                     data_point[feat_id] = temp_data[patient]['Chart']['val'][chart_feat][time]\n",
    "#                     ## set mask\n",
    "#                     data_point[NUM_FEATURES+feat_id] = 1\n",
    "        \n",
    "#         ## check med signals\n",
    "#         if 'signal' in temp_data[patient]['Med'] and 'amount' in temp_data[patient]['Med']:\n",
    "#             for med_feat in temp_data[patient]['Med']['signal'].keys():\n",
    "#                 feat_id = med_to_id[med_feat]\n",
    "#                 if temp_data[patient]['Med']['signal'][med_feat][time]:\n",
    "#                     ## set value\n",
    "#                     data_point[feat_id] = temp_data[patient]['Med']['amount'][med_feat][time]\n",
    "#                     ## set mask\n",
    "#                     data_point[NUM_FEATURES+feat_id] = 1\n",
    "\n",
    "#         ## check proc signals\n",
    "#         for proc_feat in temp_data[patient]['Proc'].keys():\n",
    "#             feat_id = proc_to_id[proc_feat]\n",
    "#             if temp_data[patient]['Proc'][proc_feat][time]:\n",
    "#                 ## set value\n",
    "#                 data_point[feat_id] = 1\n",
    "#                 ## set mask\n",
    "#                 data_point[NUM_FEATURES+feat_id] = 1\n",
    "\n",
    "#         ## check out signals\n",
    "#         for out_feat in temp_data[patient]['Out'].keys():\n",
    "#             feat_id = out_to_id[out_feat]\n",
    "#             if temp_data[patient]['Out'][out_feat][time]:\n",
    "#                 ## set value\n",
    "#                 data_point[feat_id] = 1\n",
    "#                 ## set mask\n",
    "#                 data_point[NUM_FEATURES+feat_id] = 1\n",
    "        \n",
    "#         patient_data.append(data_point)\n",
    "#     data_finetune.append(patient_data)"
   ]
  },
  {
   "cell_type": "code",
   "execution_count": 32,
   "id": "fde75b5f",
   "metadata": {},
   "outputs": [
    {
     "name": "stdout",
     "output_type": "stream",
     "text": [
      "torch.Size([4422, 72, 1617]) torch.Size([4422])\n"
     ]
    }
   ],
   "source": [
    "# import torch\n",
    "# data_finetune_pt = torch.tensor(data_finetune)\n",
    "# labels_finetune_pt = torch.tensor(labels_finetune)\n",
    "# print(data_finetune_pt.shape, labels_finetune_pt.shape)"
   ]
  },
  {
   "cell_type": "code",
   "execution_count": 34,
   "id": "ec19d57e",
   "metadata": {},
   "outputs": [],
   "source": [
    "# import random\n",
    "# finetune_train_samples = random.sample(range(data_finetune_pt.shape[0]), int(data_finetune_pt.shape[0]*0.8))\n",
    "# finetune_test_samples = list(set(range(data_finetune_pt.shape[0]))-set(finetune_train_samples))\n",
    "# finetune_val_samples = finetune_train_samples[int(len(finetune_train_samples)*0.8):]\n",
    "# finetune_train_samples = finetune_train_samples[:int(len(finetune_train_samples)*0.8)]"
   ]
  },
  {
   "cell_type": "code",
   "execution_count": 35,
   "id": "3e11c140",
   "metadata": {},
   "outputs": [
    {
     "name": "stdout",
     "output_type": "stream",
     "text": [
      "2829 708 885 4422\n"
     ]
    }
   ],
   "source": [
    "# print(len(finetune_train_samples), len(finetune_val_samples), len(finetune_test_samples), len(finetune_train_samples)+len(finetune_val_samples)+len(finetune_test_samples))"
   ]
  },
  {
   "cell_type": "code",
   "execution_count": 40,
   "id": "42a45dc8",
   "metadata": {},
   "outputs": [],
   "source": [
    "# finetune_train_X, finetune_train_Y = data_finetune_pt[finetune_train_samples], labels_finetune_pt[finetune_train_samples]\n",
    "# finetune_val_X, finetune_val_Y = data_finetune_pt[finetune_val_samples], labels_finetune_pt[finetune_val_samples]\n",
    "# finetune_test_X, finetune_test_Y = data_finetune_pt[finetune_test_samples], labels_finetune_pt[finetune_test_samples]"
   ]
  },
  {
   "cell_type": "code",
   "execution_count": 44,
   "id": "23cee9f7",
   "metadata": {},
   "outputs": [
    {
     "name": "stdout",
     "output_type": "stream",
     "text": [
      "tensor(0.1820)\n",
      "tensor(0.2119)\n",
      "tensor(0.1910)\n"
     ]
    }
   ],
   "source": [
    "# print(finetune_train_Y.sum()/finetune_train_Y.shape[0])\n",
    "# print(finetune_val_Y.sum()/finetune_val_Y.shape[0])\n",
    "# print(finetune_test_Y.sum()/finetune_test_Y.shape[0])"
   ]
  },
  {
   "cell_type": "code",
   "execution_count": 42,
   "id": "37bc2c67",
   "metadata": {},
   "outputs": [],
   "source": [
    "# torch.save(finetune_train_X, '/data/av38898/sdoh/data/finetune/X_train.pt')\n",
    "# torch.save(finetune_train_Y, '/data/av38898/sdoh/data/finetune/y_train.pt')\n",
    "# torch.save(finetune_val_X, '/data/av38898/sdoh/data/finetune/X_val.pt')\n",
    "# torch.save(finetune_val_Y, '/data/av38898/sdoh/data/finetune/y_val.pt')\n",
    "# torch.save(finetune_test_X, '/data/av38898/sdoh/data/finetune/X_test.pt')\n",
    "# torch.save(finetune_test_Y, '/data/av38898/sdoh/data/finetune/y_test.pt')"
   ]
  },
  {
   "cell_type": "code",
   "execution_count": 6,
   "id": "df1ddab0",
   "metadata": {},
   "outputs": [
    {
     "name": "stdout",
     "output_type": "stream",
     "text": [
      "# Records before 2016: 17158\n",
      "# Patients: 17158\n",
      "# Positive Cases: 3604\n",
      "# Negative Cases: 13554\n",
      "\n",
      "# Records after 2016: 4422\n",
      "# Patients: 4422\n",
      "# Positive Cases: 834\n",
      "# Negative Cases: 3588\n"
     ]
    }
   ],
   "source": [
    "# df = df.loc[df['stay_id'].isin(pats)]\n",
    "# print(\"# Records before 2016:\", len(df.loc[df['anchor_year_group_mid']<=2016]['anchor_year_group_mid']))\n",
    "# patients_2016 = set(df.loc[df['anchor_year_group_mid']<=2016]['stay_id'].unique())\n",
    "# print(\"# Patients:\", len(patients_2016))\n",
    "# print(\"# Positive Cases:\", len(df.loc[df['anchor_year_group_mid']<=2016].loc[df['label']==1]['anchor_year_group_mid']))\n",
    "# print(\"# Negative Cases:\", len(df.loc[df['anchor_year_group_mid']<=2016].loc[df['label']==0]['anchor_year_group_mid']))\n",
    "# print()\n",
    "# print(\"# Records after 2016:\", len(df.loc[df['anchor_year_group_mid']>2016]['anchor_year_group_mid']))\n",
    "# patients_after_2016 = set(df.loc[df['anchor_year_group_mid']>2016]['stay_id'].unique())\n",
    "# print(\"# Patients:\", len(patients_after_2016))\n",
    "# print(\"# Positive Cases:\", len(df.loc[df['anchor_year_group_mid']>2016].loc[df['label']==1]['anchor_year_group_mid']))\n",
    "# print(\"# Negative Cases:\", len(df.loc[df['anchor_year_group_mid']>2016].loc[df['label']==0]['anchor_year_group_mid']))\n",
    "# # print(\"# Overlapping patients:\", len(patients_2016.intersection(patients_after_2016)))"
   ]
  },
  {
   "cell_type": "code",
   "execution_count": 7,
   "id": "be028bc2",
   "metadata": {},
   "outputs": [
    {
     "name": "stderr",
     "output_type": "stream",
     "text": [
      "/tmp/ipykernel_310743/658747265.py:3: MatplotlibDeprecationWarning: The seaborn styles shipped by Matplotlib are deprecated since 3.6, as they no longer correspond to the styles shipped by seaborn. However, they will remain available as 'seaborn-v0_8-<style>'. Alternatively, directly use the seaborn API instead.\n",
      "  plt.style.use('seaborn-deep')\n"
     ]
    },
    {
     "data": {
      "image/png": "[encoded data removed]",
      "text/plain": [
       "<Figure size 640x480 with 1 Axes>"
      ]
     },
     "metadata": {},
     "output_type": "display_data"
    }
   ],
   "source": [
    "# import numpy as np\n",
    "# import matplotlib.pyplot as plt\n",
    "# plt.style.use('seaborn-deep')\n",
    "\n",
    "# x = df.loc[df['label']==0]['anchor_year_group_mid']\n",
    "# y = df.loc[df['label']==1]['anchor_year_group_mid']\n",
    "\n",
    "# plt.hist([x, y], label=['0', '1'])\n",
    "# plt.legend(loc='upper right')\n",
    "# plt.show()"
   ]
  },
  {
   "cell_type": "markdown",
   "id": "interstate-stadium",
   "metadata": {},
   "source": [
    "## 2. FEATURE SELECTION\n",
    "Features available for ICU data -\n",
    "- Diagnosis (https://mimic.mit.edu/docs/iv/modules/hosp/diagnoses_icd/)\n",
    "- Procedures (https://mimic.mit.edu/docs/iv/modules/icu/procedureevents/)\n",
    "- Medications (https://mimic.mit.edu/docs/iv/modules/icu/inputevents/)\n",
    "- Output Events (https://mimic.mit.edu/docs/iv/modules/icu/outputevents/)\n",
    "- Chart Events (https://mimic.mit.edu/docs/iv/modules/icu/chartevents/)\n",
    "\n",
    "Features available for ICU data -\n",
    "- Diagnosis (https://mimic.mit.edu/docs/iv/modules/hosp/diagnoses_icd/)\n",
    "- Procedures (https://mimic.mit.edu/docs/iv/modules/hosp/procedures_icd/)\n",
    "- Medications (https://mimic.mit.edu/docs/iv/modules/hosp/prescriptions/)\n",
    "- Lab Events (https://mimic.mit.edu/docs/iv/modules/hosp/labevents/)\n",
    "\n",
    "All features will be saved in **./data/features/**\n",
    "\n",
    "**Please run below cell to select features**"
   ]
  },
  {
   "cell_type": "code",
   "execution_count": 13,
   "id": "raised-olympus",
   "metadata": {},
   "outputs": [
    {
     "name": "stdout",
     "output_type": "stream",
     "text": [
      "Feature Selection\n",
      "Which Features you want to include for cohort?\n"
     ]
    },
    {
     "data": {
      "application/vnd.jupyter.widget-view+json": {
       "model_id": "94bc85754d0d4807927f01d0e6d3a525",
       "version_major": 2,
       "version_minor": 0
      },
      "text/plain": [
       "Checkbox(value=False, description='Diagnosis')"
      ]
     },
     "metadata": {},
     "output_type": "display_data"
    },
    {
     "data": {
      "application/vnd.jupyter.widget-view+json": {
       "model_id": "7e211be41f384df69d15c84b8ca3ff51",
       "version_major": 2,
       "version_minor": 0
      },
      "text/plain": [
       "Checkbox(value=False, description='Output Events')"
      ]
     },
     "metadata": {},
     "output_type": "display_data"
    },
    {
     "data": {
      "application/vnd.jupyter.widget-view+json": {
       "model_id": "976d9c05ebec426084ad839a75f0924d",
       "version_major": 2,
       "version_minor": 0
      },
      "text/plain": [
       "Checkbox(value=False, description='Chart Events(Labs and Vitals)')"
      ]
     },
     "metadata": {},
     "output_type": "display_data"
    },
    {
     "data": {
      "application/vnd.jupyter.widget-view+json": {
       "model_id": "662a56e0643241d6ba657865a2f2a063",
       "version_major": 2,
       "version_minor": 0
      },
      "text/plain": [
       "Checkbox(value=False, description='Procedures')"
      ]
     },
     "metadata": {},
     "output_type": "display_data"
    },
    {
     "data": {
      "application/vnd.jupyter.widget-view+json": {
       "model_id": "183e114948df4bffbf8b4596ff15fe39",
       "version_major": 2,
       "version_minor": 0
      },
      "text/plain": [
       "Checkbox(value=False, description='Medications')"
      ]
     },
     "metadata": {},
     "output_type": "display_data"
    },
    {
     "name": "stdout",
     "output_type": "stream",
     "text": [
      "**Please run below cell to extract selected features**\n"
     ]
    }
   ],
   "source": [
    "print(\"Feature Selection\")\n",
    "if data_icu:\n",
    "    print(\"Which Features you want to include for cohort?\")\n",
    "    check_input1 = widgets.Checkbox(description='Diagnosis')\n",
    "    display(check_input1)\n",
    "    check_input2 = widgets.Checkbox(description='Output Events')\n",
    "    display(check_input2)\n",
    "    check_input3 = widgets.Checkbox(description='Chart Events(Labs and Vitals)')\n",
    "    display(check_input3)\n",
    "    check_input4 = widgets.Checkbox(description='Procedures')\n",
    "    display(check_input4)\n",
    "    check_input5 = widgets.Checkbox(description='Medications')\n",
    "    display(check_input5)\n",
    "else:\n",
    "    print(\"Which Features you want to include for cohort?\")\n",
    "    check_input1 = widgets.Checkbox(description='Diagnosis')\n",
    "    display(check_input1)\n",
    "    check_input2 = widgets.Checkbox(description='Labs')\n",
    "    display(check_input2)\n",
    "    check_input3 = widgets.Checkbox(description='Procedures')\n",
    "    display(check_input3)\n",
    "    check_input4 = widgets.Checkbox(description='Medications')\n",
    "    display(check_input4)\n",
    "print(\"**Please run below cell to extract selected features**\")"
   ]
  },
  {
   "cell_type": "code",
   "execution_count": 17,
   "id": "native-covering",
   "metadata": {
    "scrolled": true
   },
   "outputs": [
    {
     "name": "stdout",
     "output_type": "stream",
     "text": [
      "[EXTRACTING DIAGNOSIS DATA]\n",
      "# unique ICD-9 codes 6614\n",
      "# unique ICD-10 codes 9890\n",
      "# unique ICD-10 codes (After converting ICD-9 to ICD-10) 10187\n",
      "# unique ICD-10 codes (After clinical gruping ICD-10 codes) 1513\n",
      "# Admissions:   70623\n",
      "Total rows 1233423\n",
      "[SUCCESSFULLY SAVED DIAGNOSIS DATA]\n",
      "[EXTRACTING OUPTPUT EVENTS DATA]\n",
      "# Unique Events:   71\n",
      "# Admissions:   68789\n",
      "Total rows 3953691\n",
      "[SUCCESSFULLY SAVED OUPTPUT EVENTS DATA]\n",
      "[EXTRACTING CHART EVENTS DATA]\n"
     ]
    },
    {
     "name": "stderr",
     "output_type": "stream",
     "text": [
      "1it [00:14, 14.86s/it]/home/av38898/anaconda3/envs/nlp/lib/python3.8/site-packages/tqdm/std.py:1178: DtypeWarning: Columns (8) have mixed types. Specify dtype option on import or set low_memory=False.\n",
      "  for obj in iterable:\n",
      "/home/av38898/projects/sdoh/MIMIC-IV-Data-Pipeline/utils/icu_preprocess_util.py:213: FutureWarning: The frame.append method is deprecated and will be removed from pandas in a future version. Use pandas.concat instead.\n",
      "  df_cohort=df_cohort.append(chunk_merged, ignore_index=True)\n",
      "2it [00:26, 12.90s/it]/home/av38898/projects/sdoh/MIMIC-IV-Data-Pipeline/utils/icu_preprocess_util.py:213: FutureWarning: The frame.append method is deprecated and will be removed from pandas in a future version. Use pandas.concat instead.\n",
      "  df_cohort=df_cohort.append(chunk_merged, ignore_index=True)\n",
      "3it [00:35, 11.40s/it]/home/av38898/projects/sdoh/MIMIC-IV-Data-Pipeline/utils/icu_preprocess_util.py:213: FutureWarning: The frame.append method is deprecated and will be removed from pandas in a future version. Use pandas.concat instead.\n",
      "  df_cohort=df_cohort.append(chunk_merged, ignore_index=True)\n",
      "4it [00:45, 10.65s/it]/home/av38898/anaconda3/envs/nlp/lib/python3.8/site-packages/tqdm/std.py:1178: DtypeWarning: Columns (8) have mixed types. Specify dtype option on import or set low_memory=False.\n",
      "  for obj in iterable:\n",
      "/home/av38898/projects/sdoh/MIMIC-IV-Data-Pipeline/utils/icu_preprocess_util.py:213: FutureWarning: The frame.append method is deprecated and will be removed from pandas in a future version. Use pandas.concat instead.\n",
      "  df_cohort=df_cohort.append(chunk_merged, ignore_index=True)\n",
      "5it [00:59, 11.90s/it]/home/av38898/anaconda3/envs/nlp/lib/python3.8/site-packages/tqdm/std.py:1178: DtypeWarning: Columns (8) have mixed types. Specify dtype option on import or set low_memory=False.\n",
      "  for obj in iterable:\n",
      "/home/av38898/projects/sdoh/MIMIC-IV-Data-Pipeline/utils/icu_preprocess_util.py:213: FutureWarning: The frame.append method is deprecated and will be removed from pandas in a future version. Use pandas.concat instead.\n",
      "  df_cohort=df_cohort.append(chunk_merged, ignore_index=True)\n",
      "6it [01:12, 12.13s/it]/home/av38898/projects/sdoh/MIMIC-IV-Data-Pipeline/utils/icu_preprocess_util.py:213: FutureWarning: The frame.append method is deprecated and will be removed from pandas in a future version. Use pandas.concat instead.\n",
      "  df_cohort=df_cohort.append(chunk_merged, ignore_index=True)\n",
      "7it [01:22, 11.45s/it]/home/av38898/projects/sdoh/MIMIC-IV-Data-Pipeline/utils/icu_preprocess_util.py:213: FutureWarning: The frame.append method is deprecated and will be removed from pandas in a future version. Use pandas.concat instead.\n",
      "  df_cohort=df_cohort.append(chunk_merged, ignore_index=True)\n",
      "8it [01:31, 10.84s/it]/home/av38898/anaconda3/envs/nlp/lib/python3.8/site-packages/tqdm/std.py:1178: DtypeWarning: Columns (8) have mixed types. Specify dtype option on import or set low_memory=False.\n",
      "  for obj in iterable:\n",
      "/home/av38898/projects/sdoh/MIMIC-IV-Data-Pipeline/utils/icu_preprocess_util.py:213: FutureWarning: The frame.append method is deprecated and will be removed from pandas in a future version. Use pandas.concat instead.\n",
      "  df_cohort=df_cohort.append(chunk_merged, ignore_index=True)\n",
      "9it [01:45, 11.79s/it]/home/av38898/anaconda3/envs/nlp/lib/python3.8/site-packages/tqdm/std.py:1178: DtypeWarning: Columns (8) have mixed types. Specify dtype option on import or set low_memory=False.\n",
      "  for obj in iterable:\n",
      "/home/av38898/projects/sdoh/MIMIC-IV-Data-Pipeline/utils/icu_preprocess_util.py:213: FutureWarning: The frame.append method is deprecated and will be removed from pandas in a future version. Use pandas.concat instead.\n",
      "  df_cohort=df_cohort.append(chunk_merged, ignore_index=True)\n",
      "10it [01:58, 12.15s/it]/home/av38898/projects/sdoh/MIMIC-IV-Data-Pipeline/utils/icu_preprocess_util.py:213: FutureWarning: The frame.append method is deprecated and will be removed from pandas in a future version. Use pandas.concat instead.\n",
      "  df_cohort=df_cohort.append(chunk_merged, ignore_index=True)\n",
      "11it [02:08, 11.48s/it]/home/av38898/projects/sdoh/MIMIC-IV-Data-Pipeline/utils/icu_preprocess_util.py:213: FutureWarning: The frame.append method is deprecated and will be removed from pandas in a future version. Use pandas.concat instead.\n",
      "  df_cohort=df_cohort.append(chunk_merged, ignore_index=True)\n",
      "12it [02:18, 10.93s/it]/home/av38898/anaconda3/envs/nlp/lib/python3.8/site-packages/tqdm/std.py:1178: DtypeWarning: Columns (8) have mixed types. Specify dtype option on import or set low_memory=False.\n",
      "  for obj in iterable:\n",
      "/home/av38898/projects/sdoh/MIMIC-IV-Data-Pipeline/utils/icu_preprocess_util.py:213: FutureWarning: The frame.append method is deprecated and will be removed from pandas in a future version. Use pandas.concat instead.\n",
      "  df_cohort=df_cohort.append(chunk_merged, ignore_index=True)\n",
      "13it [02:31, 11.56s/it]/home/av38898/anaconda3/envs/nlp/lib/python3.8/site-packages/tqdm/std.py:1178: DtypeWarning: Columns (8) have mixed types. Specify dtype option on import or set low_memory=False.\n",
      "  for obj in iterable:\n",
      "/home/av38898/projects/sdoh/MIMIC-IV-Data-Pipeline/utils/icu_preprocess_util.py:213: FutureWarning: The frame.append method is deprecated and will be removed from pandas in a future version. Use pandas.concat instead.\n",
      "  df_cohort=df_cohort.append(chunk_merged, ignore_index=True)\n",
      "14it [02:45, 12.31s/it]/home/av38898/projects/sdoh/MIMIC-IV-Data-Pipeline/utils/icu_preprocess_util.py:213: FutureWarning: The frame.append method is deprecated and will be removed from pandas in a future version. Use pandas.concat instead.\n",
      "  df_cohort=df_cohort.append(chunk_merged, ignore_index=True)\n",
      "15it [02:55, 11.66s/it]/home/av38898/projects/sdoh/MIMIC-IV-Data-Pipeline/utils/icu_preprocess_util.py:213: FutureWarning: The frame.append method is deprecated and will be removed from pandas in a future version. Use pandas.concat instead.\n",
      "  df_cohort=df_cohort.append(chunk_merged, ignore_index=True)\n",
      "16it [03:05, 11.10s/it]/home/av38898/anaconda3/envs/nlp/lib/python3.8/site-packages/tqdm/std.py:1178: DtypeWarning: Columns (8) have mixed types. Specify dtype option on import or set low_memory=False.\n",
      "  for obj in iterable:\n",
      "/home/av38898/projects/sdoh/MIMIC-IV-Data-Pipeline/utils/icu_preprocess_util.py:213: FutureWarning: The frame.append method is deprecated and will be removed from pandas in a future version. Use pandas.concat instead.\n",
      "  df_cohort=df_cohort.append(chunk_merged, ignore_index=True)\n",
      "17it [03:17, 11.50s/it]/home/av38898/anaconda3/envs/nlp/lib/python3.8/site-packages/tqdm/std.py:1178: DtypeWarning: Columns (8) have mixed types. Specify dtype option on import or set low_memory=False.\n",
      "  for obj in iterable:\n",
      "/home/av38898/projects/sdoh/MIMIC-IV-Data-Pipeline/utils/icu_preprocess_util.py:213: FutureWarning: The frame.append method is deprecated and will be removed from pandas in a future version. Use pandas.concat instead.\n",
      "  df_cohort=df_cohort.append(chunk_merged, ignore_index=True)\n",
      "18it [03:32, 12.41s/it]/home/av38898/projects/sdoh/MIMIC-IV-Data-Pipeline/utils/icu_preprocess_util.py:213: FutureWarning: The frame.append method is deprecated and will be removed from pandas in a future version. Use pandas.concat instead.\n",
      "  df_cohort=df_cohort.append(chunk_merged, ignore_index=True)\n",
      "19it [03:42, 11.82s/it]/home/av38898/projects/sdoh/MIMIC-IV-Data-Pipeline/utils/icu_preprocess_util.py:213: FutureWarning: The frame.append method is deprecated and will be removed from pandas in a future version. Use pandas.concat instead.\n",
      "  df_cohort=df_cohort.append(chunk_merged, ignore_index=True)\n",
      "20it [03:52, 11.29s/it]/home/av38898/anaconda3/envs/nlp/lib/python3.8/site-packages/tqdm/std.py:1178: DtypeWarning: Columns (8) have mixed types. Specify dtype option on import or set low_memory=False.\n",
      "  for obj in iterable:\n",
      "/home/av38898/projects/sdoh/MIMIC-IV-Data-Pipeline/utils/icu_preprocess_util.py:213: FutureWarning: The frame.append method is deprecated and will be removed from pandas in a future version. Use pandas.concat instead.\n",
      "  df_cohort=df_cohort.append(chunk_merged, ignore_index=True)\n",
      "21it [04:04, 11.58s/it]/home/av38898/anaconda3/envs/nlp/lib/python3.8/site-packages/tqdm/std.py:1178: DtypeWarning: Columns (8) have mixed types. Specify dtype option on import or set low_memory=False.\n",
      "  for obj in iterable:\n",
      "/home/av38898/projects/sdoh/MIMIC-IV-Data-Pipeline/utils/icu_preprocess_util.py:213: FutureWarning: The frame.append method is deprecated and will be removed from pandas in a future version. Use pandas.concat instead.\n",
      "  df_cohort=df_cohort.append(chunk_merged, ignore_index=True)\n",
      "22it [04:20, 12.66s/it]/home/av38898/projects/sdoh/MIMIC-IV-Data-Pipeline/utils/icu_preprocess_util.py:213: FutureWarning: The frame.append method is deprecated and will be removed from pandas in a future version. Use pandas.concat instead.\n",
      "  df_cohort=df_cohort.append(chunk_merged, ignore_index=True)\n",
      "23it [04:30, 12.01s/it]/home/av38898/projects/sdoh/MIMIC-IV-Data-Pipeline/utils/icu_preprocess_util.py:213: FutureWarning: The frame.append method is deprecated and will be removed from pandas in a future version. Use pandas.concat instead.\n",
      "  df_cohort=df_cohort.append(chunk_merged, ignore_index=True)\n",
      "24it [04:40, 11.43s/it]/home/av38898/anaconda3/envs/nlp/lib/python3.8/site-packages/tqdm/std.py:1178: DtypeWarning: Columns (8) have mixed types. Specify dtype option on import or set low_memory=False.\n",
      "  for obj in iterable:\n",
      "/home/av38898/projects/sdoh/MIMIC-IV-Data-Pipeline/utils/icu_preprocess_util.py:213: FutureWarning: The frame.append method is deprecated and will be removed from pandas in a future version. Use pandas.concat instead.\n",
      "  df_cohort=df_cohort.append(chunk_merged, ignore_index=True)\n",
      "25it [04:52, 11.66s/it]/home/av38898/anaconda3/envs/nlp/lib/python3.8/site-packages/tqdm/std.py:1178: DtypeWarning: Columns (8) have mixed types. Specify dtype option on import or set low_memory=False.\n",
      "  for obj in iterable:\n",
      "/home/av38898/projects/sdoh/MIMIC-IV-Data-Pipeline/utils/icu_preprocess_util.py:213: FutureWarning: The frame.append method is deprecated and will be removed from pandas in a future version. Use pandas.concat instead.\n",
      "  df_cohort=df_cohort.append(chunk_merged, ignore_index=True)\n",
      "26it [05:08, 12.77s/it]/home/av38898/projects/sdoh/MIMIC-IV-Data-Pipeline/utils/icu_preprocess_util.py:213: FutureWarning: The frame.append method is deprecated and will be removed from pandas in a future version. Use pandas.concat instead.\n",
      "  df_cohort=df_cohort.append(chunk_merged, ignore_index=True)\n",
      "27it [05:18, 12.09s/it]/home/av38898/projects/sdoh/MIMIC-IV-Data-Pipeline/utils/icu_preprocess_util.py:213: FutureWarning: The frame.append method is deprecated and will be removed from pandas in a future version. Use pandas.concat instead.\n",
      "  df_cohort=df_cohort.append(chunk_merged, ignore_index=True)\n",
      "28it [05:29, 11.56s/it]/home/av38898/anaconda3/envs/nlp/lib/python3.8/site-packages/tqdm/std.py:1178: DtypeWarning: Columns (8) have mixed types. Specify dtype option on import or set low_memory=False.\n",
      "  for obj in iterable:\n",
      "/home/av38898/projects/sdoh/MIMIC-IV-Data-Pipeline/utils/icu_preprocess_util.py:213: FutureWarning: The frame.append method is deprecated and will be removed from pandas in a future version. Use pandas.concat instead.\n",
      "  df_cohort=df_cohort.append(chunk_merged, ignore_index=True)\n",
      "29it [05:41, 11.81s/it]/home/av38898/projects/sdoh/MIMIC-IV-Data-Pipeline/utils/icu_preprocess_util.py:213: FutureWarning: The frame.append method is deprecated and will be removed from pandas in a future version. Use pandas.concat instead.\n",
      "  df_cohort=df_cohort.append(chunk_merged, ignore_index=True)\n",
      "30it [05:58, 13.23s/it]/home/av38898/anaconda3/envs/nlp/lib/python3.8/site-packages/tqdm/std.py:1178: DtypeWarning: Columns (8) have mixed types. Specify dtype option on import or set low_memory=False.\n",
      "  for obj in iterable:\n",
      "/home/av38898/projects/sdoh/MIMIC-IV-Data-Pipeline/utils/icu_preprocess_util.py:213: FutureWarning: The frame.append method is deprecated and will be removed from pandas in a future version. Use pandas.concat instead.\n",
      "  df_cohort=df_cohort.append(chunk_merged, ignore_index=True)\n",
      "31it [06:09, 12.72s/it]/home/av38898/projects/sdoh/MIMIC-IV-Data-Pipeline/utils/icu_preprocess_util.py:213: FutureWarning: The frame.append method is deprecated and will be removed from pandas in a future version. Use pandas.concat instead.\n",
      "  df_cohort=df_cohort.append(chunk_merged, ignore_index=True)\n",
      "32it [06:20, 12.10s/it]/home/av38898/projects/sdoh/MIMIC-IV-Data-Pipeline/utils/icu_preprocess_util.py:213: FutureWarning: The frame.append method is deprecated and will be removed from pandas in a future version. Use pandas.concat instead.\n",
      "  df_cohort=df_cohort.append(chunk_merged, ignore_index=True)\n",
      "33it [06:30, 11.83s/it]\n"
     ]
    },
    {
     "name": "stdout",
     "output_type": "stream",
     "text": [
      "# Unique Events:   454\n",
      "# Admissions:   70643\n",
      "Total rows 68070035\n",
      "[SUCCESSFULLY SAVED CHART EVENTS DATA]\n",
      "[EXTRACTING PROCEDURES DATA]\n",
      "# Unique Events:   157\n",
      "# Admissions:   70204\n",
      "Total rows 622057\n",
      "[SUCCESSFULLY SAVED PROCEDURES DATA]\n",
      "[EXTRACTING MEDICATIONS DATA]\n",
      "# of unique type of drug:  193\n",
      "# Admissions:   66354\n",
      "# Total rows 4013513\n",
      "[SUCCESSFULLY SAVED MEDICATIONS DATA]\n"
     ]
    }
   ],
   "source": [
    "if data_icu:\n",
    "    diag_flag=check_input1.value\n",
    "    out_flag=check_input2.value\n",
    "    chart_flag=check_input3.value\n",
    "    proc_flag=check_input4.value\n",
    "    med_flag=check_input5.value\n",
    "    feature_icu(cohort_output, version_path,diag_flag,out_flag,chart_flag,proc_flag,med_flag)\n",
    "else:\n",
    "    diag_flag=check_input1.value\n",
    "    lab_flag=check_input2.value\n",
    "    proc_flag=check_input3.value\n",
    "    med_flag=check_input4.value\n",
    "    feature_nonicu(cohort_output, version_path,diag_flag,lab_flag,proc_flag,med_flag)"
   ]
  },
  {
   "cell_type": "code",
   "execution_count": 18,
   "id": "7d1f38fc",
   "metadata": {},
   "outputs": [
    {
     "name": "stdout",
     "output_type": "stream",
     "text": [
      "Done\n"
     ]
    }
   ],
   "source": [
    "print(\"Done\")"
   ]
  },
  {
   "cell_type": "markdown",
   "id": "aboriginal-upset",
   "metadata": {},
   "source": [
    "## 3. CLINICAL GROUPING\n",
    "Below you will have option to clinically group diagnosis and medications.\n",
    "Grouping medical codes will reduce dimensional space of features.\n",
    "\n",
    "Default options selected below will group medical codes to reduce feature dimension space.\n",
    "\n",
    "**Please run below cell to select preprocessing for diferent features**"
   ]
  },
  {
   "cell_type": "code",
   "execution_count": 19,
   "id": "partial-manhattan",
   "metadata": {},
   "outputs": [
    {
     "name": "stdout",
     "output_type": "stream",
     "text": [
      "Do you want to group ICD 10 DIAG codes ?\n"
     ]
    },
    {
     "data": {
      "application/vnd.jupyter.widget-view+json": {
       "model_id": "ce8dd50646e940dc80edfb60fceda8d6",
       "version_major": 2,
       "version_minor": 0
      },
      "text/plain": [
       "RadioButtons(index=2, layout=Layout(width='100%'), options=('Keep both ICD-9 and ICD-10 codes', 'Convert ICD-9…"
      ]
     },
     "metadata": {},
     "output_type": "display_data"
    },
    {
     "name": "stdout",
     "output_type": "stream",
     "text": [
      "**Please run below cell to perform feature preprocessing**\n"
     ]
    }
   ],
   "source": [
    "if data_icu:\n",
    "    if diag_flag:\n",
    "        print(\"Do you want to group ICD 10 DIAG codes ?\")\n",
    "        radio_input4 = widgets.RadioButtons(options=['Keep both ICD-9 and ICD-10 codes','Convert ICD-9 to ICD-10 codes','Convert ICD-9 to ICD-10 and group ICD-10 codes'],value='Convert ICD-9 to ICD-10 and group ICD-10 codes',layout={'width': '100%'})\n",
    "        display(radio_input4)   \n",
    "    \n",
    "else:\n",
    "    if diag_flag:\n",
    "        print(\"Do you want to group ICD 10 DIAG codes ?\")\n",
    "        radio_input4 = widgets.RadioButtons(options=['Keep both ICD-9 and ICD-10 codes','Convert ICD-9 to ICD-10 codes','Convert ICD-9 to ICD-10 and group ICD-10 codes'],value='Convert ICD-9 to ICD-10 and group ICD-10 codes',layout={'width': '100%'})\n",
    "        display(radio_input4)     \n",
    "    if med_flag:\n",
    "        print(\"Do you want to group Medication codes to use Non propietary names?\")\n",
    "        radio_input5 = widgets.RadioButtons(options=['Yes','No'],value='Yes',layout={'width': '100%'})\n",
    "        display(radio_input5)\n",
    "    if proc_flag:\n",
    "        print(\"Which ICD codes for Procedures you want to keep in data?\")\n",
    "        radio_input6 = widgets.RadioButtons(options=['ICD-9 and ICD-10','ICD-10'],value='ICD-10',layout={'width': '100%'})\n",
    "        display(radio_input6)\n",
    "print(\"**Please run below cell to perform feature preprocessing**\")"
   ]
  },
  {
   "cell_type": "code",
   "execution_count": 20,
   "id": "descending-symphony",
   "metadata": {},
   "outputs": [
    {
     "name": "stdout",
     "output_type": "stream",
     "text": [
      "[PROCESSING DIAGNOSIS DATA]\n",
      "Total number of rows 1166274\n",
      "[SUCCESSFULLY SAVED DIAGNOSIS DATA]\n"
     ]
    }
   ],
   "source": [
    "group_diag=False\n",
    "group_med=False\n",
    "group_proc=False\n",
    "if data_icu:\n",
    "    if diag_flag:\n",
    "        group_diag=radio_input4.value\n",
    "    preprocess_features_icu(cohort_output, diag_flag, group_diag,False,False,False,0,0)\n",
    "else:\n",
    "    if diag_flag:\n",
    "        group_diag=radio_input4.value\n",
    "    if med_flag:\n",
    "        group_med=radio_input5.value\n",
    "    if proc_flag:\n",
    "        group_proc=radio_input6.value\n",
    "    preprocess_features_hosp(cohort_output, diag_flag,proc_flag,med_flag,False,group_diag,group_med,group_proc,False,False,0,0)"
   ]
  },
  {
   "cell_type": "markdown",
   "id": "immediate-captain",
   "metadata": {},
   "source": [
    "### 4. SUMMARY OF FEATURES\n",
    "\n",
    "This step will generate summary of all features extracted so far.<br>\n",
    "It will save summary files in **./data/summary/**<br>\n",
    "- These files provide summary about **mean frequency** of medical codes per admission.<br>\n",
    "- It also provides **total occurrence count** of each medical code.<br>\n",
    "- For labs and chart events it will also provide <br>**missing %** which tells how many rows for a certain medical code has missing value.\n",
    "\n",
    "Please use this information to further refine your cohort by selecting <br>which medical codes in each feature you want to keep and <br>which codes you would like to remove for downstream analysis tasks.\n",
    "\n",
    "**Please run below cell to generate summary files**"
   ]
  },
  {
   "cell_type": "code",
   "execution_count": 21,
   "id": "thick-residence",
   "metadata": {},
   "outputs": [
    {
     "name": "stdout",
     "output_type": "stream",
     "text": [
      "[GENERATING FEATURE SUMMARY]\n",
      "[SUCCESSFULLY SAVED FEATURE SUMMARY]\n"
     ]
    }
   ],
   "source": [
    "if data_icu:\n",
    "    generate_summary_icu(diag_flag,proc_flag,med_flag,out_flag,chart_flag)\n",
    "else:\n",
    "    generate_summary_hosp(diag_flag,proc_flag,med_flag,lab_flag)"
   ]
  },
  {
   "cell_type": "markdown",
   "id": "northern-architecture",
   "metadata": {},
   "source": [
    "## 5. Feature Selection\n",
    "\n",
    "based on the files generated in previous step and other infromation gathered by you,<br>\n",
    "Please select which medical codes you want to include in this study.\n",
    "\n",
    "Please run below cell to to select options for which features you want to perform feature selection.\n",
    "\n",
    "- Select **Yes** if you want to select a subset of medical codes for that feature and<br> **edit** the corresponding feature file for it.\n",
    "- Select **No** if you want to keep all the codes in a feature."
   ]
  },
  {
   "cell_type": "code",
   "execution_count": 22,
   "id": "immediate-seafood",
   "metadata": {},
   "outputs": [
    {
     "name": "stdout",
     "output_type": "stream",
     "text": [
      "Do you want to do Feature Selection for Diagnosis \n",
      " (If yes, please edit list of codes in ./data/summary/diag_features.csv)\n"
     ]
    },
    {
     "data": {
      "application/vnd.jupyter.widget-view+json": {
       "model_id": "d5ef670e657c468ab00a2f7d97b501b0",
       "version_major": 2,
       "version_minor": 0
      },
      "text/plain": [
       "RadioButtons(index=1, options=('Yes', 'No'), value='No')"
      ]
     },
     "metadata": {},
     "output_type": "display_data"
    },
    {
     "name": "stdout",
     "output_type": "stream",
     "text": [
      "Do you want to do Feature Selection for Medication \n",
      " (If yes, please edit list of codes in ./data/summary/med_features.csv)\n"
     ]
    },
    {
     "data": {
      "application/vnd.jupyter.widget-view+json": {
       "model_id": "8408d2d0f96244428995ba038cde2969",
       "version_major": 2,
       "version_minor": 0
      },
      "text/plain": [
       "RadioButtons(index=1, options=('Yes', 'No'), value='No')"
      ]
     },
     "metadata": {},
     "output_type": "display_data"
    },
    {
     "name": "stdout",
     "output_type": "stream",
     "text": [
      "Do you want to do Feature Selection for Procedures \n",
      " (If yes, please edit list of codes in ./data/summary/proc_features.csv)\n"
     ]
    },
    {
     "data": {
      "application/vnd.jupyter.widget-view+json": {
       "model_id": "20979aaf23a24ca68181185d1e048f49",
       "version_major": 2,
       "version_minor": 0
      },
      "text/plain": [
       "RadioButtons(index=1, options=('Yes', 'No'), value='No')"
      ]
     },
     "metadata": {},
     "output_type": "display_data"
    },
    {
     "name": "stdout",
     "output_type": "stream",
     "text": [
      "Do you want to do Feature Selection for Output event \n",
      " (If yes, please edit list of codes in ./data/summary/out_features.csv)\n"
     ]
    },
    {
     "data": {
      "application/vnd.jupyter.widget-view+json": {
       "model_id": "345be9b36e01433e9e4893660faade54",
       "version_major": 2,
       "version_minor": 0
      },
      "text/plain": [
       "RadioButtons(index=1, options=('Yes', 'No'), value='No')"
      ]
     },
     "metadata": {},
     "output_type": "display_data"
    },
    {
     "name": "stdout",
     "output_type": "stream",
     "text": [
      "Do you want to do Feature Selection for Chart events \n",
      " (If yes, please edit list of codes in ./data/summary/chart_features.csv)\n"
     ]
    },
    {
     "data": {
      "application/vnd.jupyter.widget-view+json": {
       "model_id": "aa86830e2b3e46249e7f5d17ddb8490c",
       "version_major": 2,
       "version_minor": 0
      },
      "text/plain": [
       "RadioButtons(index=1, options=('Yes', 'No'), value='No')"
      ]
     },
     "metadata": {},
     "output_type": "display_data"
    },
    {
     "name": "stdout",
     "output_type": "stream",
     "text": [
      "**Please run below cell to perform feature selection**\n"
     ]
    }
   ],
   "source": [
    "if data_icu:\n",
    "    if diag_flag:\n",
    "        print(\"Do you want to do Feature Selection for Diagnosis \\n (If yes, please edit list of codes in ./data/summary/diag_features.csv)\")\n",
    "        radio_input4 = widgets.RadioButtons(options=['Yes','No'],value='No')\n",
    "        display(radio_input4)       \n",
    "    if med_flag:\n",
    "        print(\"Do you want to do Feature Selection for Medication \\n (If yes, please edit list of codes in ./data/summary/med_features.csv)\")\n",
    "        radio_input5 = widgets.RadioButtons(options=['Yes','No'],value='No')\n",
    "        display(radio_input5)   \n",
    "    if proc_flag:\n",
    "        print(\"Do you want to do Feature Selection for Procedures \\n (If yes, please edit list of codes in ./data/summary/proc_features.csv)\")\n",
    "        radio_input6 = widgets.RadioButtons(options=['Yes','No'],value='No')\n",
    "        display(radio_input6)   \n",
    "    if out_flag:\n",
    "        print(\"Do you want to do Feature Selection for Output event \\n (If yes, please edit list of codes in ./data/summary/out_features.csv)\")\n",
    "        radio_input7 = widgets.RadioButtons(options=['Yes','No'],value='No')\n",
    "        display(radio_input7)  \n",
    "    if chart_flag:\n",
    "        print(\"Do you want to do Feature Selection for Chart events \\n (If yes, please edit list of codes in ./data/summary/chart_features.csv)\")\n",
    "        radio_input8 = widgets.RadioButtons(options=['Yes','No'],value='No')\n",
    "        display(radio_input8)  \n",
    "else:\n",
    "    if diag_flag:\n",
    "        print(\"Do you want to do Feature Selection for Diagnosis \\n (If yes, please edit list of codes in ./data/summary/diag_features.csv)\")\n",
    "        radio_input4 = widgets.RadioButtons(options=['Yes','No'],value='No')\n",
    "        display(radio_input4)         \n",
    "    if med_flag:\n",
    "        print(\"Do you want to do Feature Selection for Medication \\n (If yes, please edit list of codes in ./data/summary/med_features.csv)\")\n",
    "        radio_input5 = widgets.RadioButtons(options=['Yes','No'],value='No')\n",
    "        display(radio_input5)   \n",
    "    if proc_flag:\n",
    "        print(\"Do you want to do Feature Selection for Procedures \\n (If yes, please edit list of codes in ./data/summary/proc_features.csv)\")\n",
    "        radio_input6 = widgets.RadioButtons(options=['Yes','No'],value='No')\n",
    "        display(radio_input6)   \n",
    "    if lab_flag:\n",
    "        print(\"Do you want to do Feature Selection for Labs \\n (If yes, please edit list of codes in ./data/summary/lab_features.csv)\")\n",
    "        radio_input7 = widgets.RadioButtons(options=['Yes','No'],value='No')\n",
    "        display(radio_input7)   \n",
    "print(\"**Please run below cell to perform feature selection**\")"
   ]
  },
  {
   "cell_type": "code",
   "execution_count": 24,
   "id": "perceived-python",
   "metadata": {},
   "outputs": [],
   "source": [
    "select_diag=False\n",
    "select_med=False\n",
    "select_proc=False\n",
    "select_lab=False\n",
    "select_out=False\n",
    "select_chart=False\n",
    "\n",
    "if data_icu:\n",
    "    if diag_flag:\n",
    "        select_diag=radio_input4.value == 'Yes'\n",
    "    if med_flag:\n",
    "        select_med=radio_input5.value == 'Yes'\n",
    "    if proc_flag:\n",
    "        select_proc=radio_input6.value == 'Yes'\n",
    "    if out_flag:\n",
    "        select_out=radio_input7.value == 'Yes'\n",
    "    if chart_flag:\n",
    "        select_chart=radio_input8.value == 'Yes'\n",
    "    features_selection_icu(cohort_output, diag_flag,proc_flag,med_flag,out_flag, chart_flag,select_diag,select_med,select_proc,select_out,select_chart)\n",
    "else:\n",
    "    if diag_flag:\n",
    "        select_diag=radio_input4.value == 'Yes'\n",
    "    if med_flag:\n",
    "        select_med=radio_input5.value == 'Yes'\n",
    "    if proc_flag:\n",
    "        select_proc=radio_input6.value == 'Yes'\n",
    "    if lab_flag:\n",
    "        select_lab=radio_input7.value == 'Yes'\n",
    "    features_selection_hosp(cohort_output, diag_flag,proc_flag,med_flag,lab_flag,select_diag,select_med,select_proc,select_lab)"
   ]
  },
  {
   "cell_type": "markdown",
   "id": "comfortable-director",
   "metadata": {},
   "source": [
    "## 6. CLEANING OF FEATURES\n",
    "Below you will have option to to clean lab and chart events by performing outlier removal and unit conversion.\n",
    "\n",
    "Outlier removal is performed to remove values higher than selected **right threshold** percentile and lower than selected **left threshold** percentile among all values for each itemid. \n",
    "\n",
    "**Please run below cell to select preprocessing for diferent features**"
   ]
  },
  {
   "cell_type": "code",
   "execution_count": 25,
   "id": "moderate-forum",
   "metadata": {},
   "outputs": [
    {
     "name": "stdout",
     "output_type": "stream",
     "text": [
      "Outlier removal in values of chart events ?\n"
     ]
    },
    {
     "data": {
      "application/vnd.jupyter.widget-view+json": {
       "model_id": "e358abc96caa47699085f9c80b3abcca",
       "version_major": 2,
       "version_minor": 0
      },
      "text/plain": [
       "RadioButtons(layout=Layout(height='40px', width='100%'), options=('No outlier detection', 'Impute Outlier (def…"
      ]
     },
     "metadata": {},
     "output_type": "display_data"
    },
    {
     "data": {
      "application/vnd.jupyter.widget-view+json": {
       "model_id": "5b99bf7080ac4048a1c4991a014bfc0e",
       "version_major": 2,
       "version_minor": 0
      },
      "text/plain": [
       "HBox(children=(Label(value='Right Outlier Threshold', layout=Layout(width='150px')), IntSlider(value=98, layou…"
      ]
     },
     "metadata": {},
     "output_type": "display_data"
    },
    {
     "data": {
      "application/vnd.jupyter.widget-view+json": {
       "model_id": "9ae850a16a4045139eaad9011113e074",
       "version_major": 2,
       "version_minor": 0
      },
      "text/plain": [
       "HBox(children=(Label(value='Left Outlier Threshold', layout=Layout(width='150px')), IntSlider(value=0, layout=…"
      ]
     },
     "metadata": {},
     "output_type": "display_data"
    },
    {
     "name": "stdout",
     "output_type": "stream",
     "text": [
      "**Please run below cell to perform feature preprocessing**\n"
     ]
    }
   ],
   "source": [
    "if data_icu:\n",
    "    if chart_flag:\n",
    "        print(\"Outlier removal in values of chart events ?\")\n",
    "        layout = widgets.Layout(width='100%', height='40px') #set width and height\n",
    "\n",
    "        radio_input5 = widgets.RadioButtons(options=['No outlier detection','Impute Outlier (default:98)','Remove outliers (default:98)'],value='No outlier detection',layout=layout)\n",
    "        display(radio_input5)\n",
    "        outlier=widgets.IntSlider(\n",
    "        value=98,\n",
    "        min=90,\n",
    "        max=99,\n",
    "        step=1,\n",
    "        disabled=False,layout={'width': '100%'}\n",
    "        )\n",
    "        left_outlier=widgets.IntSlider(\n",
    "        value=0,\n",
    "        min=0,\n",
    "        max=10,\n",
    "        step=1,\n",
    "        disabled=False,layout={'width': '100%'}\n",
    "        )\n",
    "        #display(oulier)\n",
    "        display(widgets.HBox([widgets.Label('Right Outlier Threshold',layout={'width': '150px'}), outlier]))\n",
    "        display(widgets.HBox([widgets.Label('Left Outlier Threshold',layout={'width': '150px'}), left_outlier]))\n",
    "    \n",
    "else:      \n",
    "    if lab_flag:\n",
    "        print(\"Outlier removal in values of lab events ?\")\n",
    "        layout = widgets.Layout(width='100%', height='40px') #set width and height\n",
    "\n",
    "        radio_input7 = widgets.RadioButtons(options=['No outlier detection','Impute Outlier (default:98)','Remove outliers (default:98)'],value='No outlier detection',layout=layout)\n",
    "        display(radio_input7)\n",
    "        outlier=widgets.IntSlider(\n",
    "        value=98,\n",
    "        min=90,\n",
    "        max=99,\n",
    "        step=1,\n",
    "        disabled=False,layout={'width': '100%'}\n",
    "        )\n",
    "        left_outlier=widgets.IntSlider(\n",
    "        value=0,\n",
    "        min=0,\n",
    "        max=10,\n",
    "        step=1,\n",
    "        disabled=False,layout={'width': '100%'}\n",
    "        )\n",
    "        #display(oulier)\n",
    "        display(widgets.HBox([widgets.Label('Right Outlier Threshold',layout={'width': '150px'}), outlier]))\n",
    "        display(widgets.HBox([widgets.Label('Left Outlier Threshold',layout={'width': '150px'}), left_outlier]))\n",
    "print(\"**Please run below cell to perform feature preprocessing**\")"
   ]
  },
  {
   "cell_type": "code",
   "execution_count": 26,
   "id": "impossible-mailman",
   "metadata": {},
   "outputs": [],
   "source": [
    "thresh=0\n",
    "if data_icu:\n",
    "    if chart_flag:\n",
    "        clean_chart=radio_input5.value!='No outlier detection'\n",
    "        impute_outlier_chart=radio_input5.value=='Impute Outlier (default:98)'\n",
    "        thresh=outlier.value\n",
    "        left_thresh=left_outlier.value\n",
    "    preprocess_features_icu(cohort_output, False, False,chart_flag,clean_chart,impute_outlier_chart,thresh,left_thresh)\n",
    "else:\n",
    "    if lab_flag:\n",
    "        clean_lab=radio_input7.value!='No outlier detection'\n",
    "        impute_outlier=radio_input7.value=='Impute Outlier (default:98)'\n",
    "        thresh=outlier.value\n",
    "        left_thresh=left_outlier.value\n",
    "    preprocess_features_hosp(cohort_output, False,False,False,lab_flag,False,False,False,clean_lab,impute_outlier,thresh,left_thresh)"
   ]
  },
  {
   "cell_type": "markdown",
   "id": "independent-academy",
   "metadata": {},
   "source": [
    "## 7. Time-Series Representation\n",
    "In this section, please choose how you want to process and represent time-series data.\n",
    "\n",
    "- First option is to select the length of time-series data you want to include for this study. (Default is 72 hours)\n",
    "\n",
    "- Second option is to select bucket size which tells in what size time windows you want to divide your time-series.<br>\n",
    "For example, if you select **2** bucket size, it wil aggregate data for every 2 hours and <br>a time-series of length 24 hours will be represented as time-series with 12 time-windows <br>where data for every 2 hours is agggregated from original raw time-series.\n",
    "\n",
    "During this step, we will also save the time-series data in data dictionaries in the format that can be directly used for following deep learning analysis.\n",
    "\n",
    "### Imputation\n",
    "You can also choose if you want to impute lab/chart values. The imputation will be done by froward fill and mean or median imputation.<br>\n",
    "Values will be forward fill first and if no value exists for that admission we will use mean or median value for the patient.\n",
    "\n",
    "The data dictionaries will be saved in **./data/dict/**\n",
    "\n",
    "Please refer the readme to know the structure of data dictionaries.\n",
    "\n",
    "**Please run below cell to select time-series representation**"
   ]
  },
  {
   "cell_type": "code",
   "execution_count": 27,
   "id": "mechanical-three",
   "metadata": {},
   "outputs": [
    {
     "name": "stdout",
     "output_type": "stream",
     "text": [
      "=======Time-series Data Represenation=======\n",
      "Length of data to be included for time-series prediction ?\n"
     ]
    },
    {
     "data": {
      "application/vnd.jupyter.widget-view+json": {
       "model_id": "5d27a3d480374eabbddb8374a1e6cf69",
       "version_major": 2,
       "version_minor": 0
      },
      "text/plain": [
       "RadioButtons(options=('Last 72 hours', 'Last 48 hours', 'Last 24 hours', 'Custom'), value='Last 72 hours')"
      ]
     },
     "metadata": {},
     "output_type": "display_data"
    },
    {
     "data": {
      "application/vnd.jupyter.widget-view+json": {
       "model_id": "4ca90e0fceb24c6da44705051f34238f",
       "version_major": 2,
       "version_minor": 0
      },
      "text/plain": [
       "HBox(children=(Label(value='Last (in hours):', layout=Layout(width='150px')), IntSlider(value=72, description=…"
      ]
     },
     "metadata": {},
     "output_type": "display_data"
    },
    {
     "name": "stdout",
     "output_type": "stream",
     "text": [
      "What time bucket size you want to choose ?\n"
     ]
    },
    {
     "data": {
      "application/vnd.jupyter.widget-view+json": {
       "model_id": "0a69abcf56b04ab28e9f80a5ab8a5f79",
       "version_major": 2,
       "version_minor": 0
      },
      "text/plain": [
       "RadioButtons(options=('1 hour', '2 hour', '3 hour', '4 hour', '5 hour', 'Custom'), value='1 hour')"
      ]
     },
     "metadata": {},
     "output_type": "display_data"
    },
    {
     "data": {
      "application/vnd.jupyter.widget-view+json": {
       "model_id": "caff5c71e1db4d39aeceb0eba6cf14b0",
       "version_major": 2,
       "version_minor": 0
      },
      "text/plain": [
       "HBox(children=(Label(value='Bucket Size (in hours):', layout=Layout(width='150px')), IntSlider(value=1, max=6,…"
      ]
     },
     "metadata": {},
     "output_type": "display_data"
    },
    {
     "name": "stdout",
     "output_type": "stream",
     "text": [
      "Do you want to forward fill and mean or median impute lab/chart values to form continuous data signal?\n"
     ]
    },
    {
     "data": {
      "application/vnd.jupyter.widget-view+json": {
       "model_id": "276a588ffbff40c7bd8ae2c149895e0a",
       "version_major": 2,
       "version_minor": 0
      },
      "text/plain": [
       "RadioButtons(options=('No Imputation', 'forward fill and mean', 'forward fill and median'), value='No Imputati…"
      ]
     },
     "metadata": {},
     "output_type": "display_data"
    },
    {
     "name": "stdout",
     "output_type": "stream",
     "text": [
      "**Please run below cell to perform time-series represenation and save in data dictionaries**\n"
     ]
    }
   ],
   "source": [
    "print(\"=======Time-series Data Represenation=======\")\n",
    "\n",
    "print(\"Length of data to be included for time-series prediction ?\")\n",
    "if(data_mort):\n",
    "    radio_input8 = widgets.RadioButtons(options=['First 72 hours','First 48 hours','First 24 hours','Custom'],value='First 72 hours')\n",
    "    display(radio_input8)\n",
    "    text2=widgets.IntSlider(\n",
    "    value=72,\n",
    "    min=24,\n",
    "    max=72,\n",
    "    step=1,\n",
    "    description='Fisrt',\n",
    "    disabled=False\n",
    "    )\n",
    "    display(widgets.HBox([widgets.Label('Fisrt (in hours):',layout={'width': '150px'}), text2]))\n",
    "elif(data_admn):\n",
    "    radio_input8 = widgets.RadioButtons(options=['Last 72 hours','Last 48 hours','Last 24 hours','Custom'],value='Last 72 hours')\n",
    "    display(radio_input8)\n",
    "    text2=widgets.IntSlider(\n",
    "    value=72,\n",
    "    min=24,\n",
    "    max=72,\n",
    "    step=1,\n",
    "    description='Last',\n",
    "    disabled=False\n",
    "    )\n",
    "    display(widgets.HBox([widgets.Label('Last (in hours):',layout={'width': '150px'}), text2]))\n",
    "elif(data_los):\n",
    "    radio_input8 = widgets.RadioButtons(options=['First 12 hours','First 24 hours','Custom'],value='First 24 hours')\n",
    "    display(radio_input8)\n",
    "    text2=widgets.IntSlider(\n",
    "    value=72,\n",
    "    min=12,\n",
    "    max=72,\n",
    "    step=1,\n",
    "    description='First',\n",
    "    disabled=False\n",
    "    )\n",
    "    display(widgets.HBox([widgets.Label('Fisrt (in hours):',layout={'width': '150px'}), text2]))\n",
    "    \n",
    "    \n",
    "print(\"What time bucket size you want to choose ?\")\n",
    "radio_input7 = widgets.RadioButtons(options=['1 hour','2 hour','3 hour','4 hour','5 hour','Custom'],value='1 hour')\n",
    "display(radio_input7)\n",
    "text1=widgets.IntSlider(\n",
    "    value=1,\n",
    "    min=1,\n",
    "    max=6,\n",
    "    step=1,\n",
    "    disabled=False\n",
    "    )\n",
    "#display(text1)\n",
    "display(widgets.HBox([widgets.Label('Bucket Size (in hours):',layout={'width': '150px'}), text1]))\n",
    "print(\"Do you want to forward fill and mean or median impute lab/chart values to form continuous data signal?\")\n",
    "radio_impute = widgets.RadioButtons(options=['No Imputation', 'forward fill and mean','forward fill and median'],value='No Imputation')\n",
    "display(radio_impute)   \n",
    "\n",
    "radio_input6 = widgets.RadioButtons(options=['0 hours','2 hours','4 hours','6 hours'],value='0 hours')\n",
    "if(data_mort):\n",
    "    print(\"If you have choosen mortality prediction task, then what prediction window length you want to keep?\")\n",
    "    radio_input6 = widgets.RadioButtons(options=['2 hours','4 hours','6 hours','8 hours','Custom'],value='2 hours')\n",
    "    display(radio_input6)\n",
    "    text3=widgets.IntSlider(\n",
    "    value=2,\n",
    "    min=2,\n",
    "    max=8,\n",
    "    step=1,\n",
    "    disabled=False\n",
    "    )\n",
    "    display(widgets.HBox([widgets.Label('Prediction window (in hours)',layout={'width': '180px'}), text3]))\n",
    "print(\"**Please run below cell to perform time-series represenation and save in data dictionaries**\")"
   ]
  },
  {
   "cell_type": "code",
   "execution_count": 28,
   "id": "c9e0bd40",
   "metadata": {},
   "outputs": [],
   "source": [
    "import warnings\n",
    "warnings.filterwarnings('ignore')\n"
   ]
  },
  {
   "cell_type": "code",
   "execution_count": 34,
   "id": "indie-appendix",
   "metadata": {},
   "outputs": [
    {
     "name": "stdout",
     "output_type": "stream",
     "text": [
      "[ READ COHORT ]\n",
      "[ ======READING DIAGNOSIS ]\n",
      "[ ======READING PROCEDURES ]\n",
      "[ ======READING OUT EVENTS ]\n",
      "[ ======READING CHART EVENTS ]\n"
     ]
    },
    {
     "name": "stderr",
     "output_type": "stream",
     "text": [
      "14it [07:21, 31.52s/it]\n"
     ]
    },
    {
     "name": "stdout",
     "output_type": "stream",
     "text": [
      "[ ======READING MEDICATIONS ]\n",
      "[ READ ALL FEATURES ]\n",
      "[ PROCESSED TIME SERIES TO EQUAL LENGTH  ]\n"
     ]
    },
    {
     "name": "stderr",
     "output_type": "stream",
     "text": [
      "100%|███████████████████████████████████████████████████████████████████████████████████████████████████████████████████████████████| 72/72 [00:16<00:00,  4.25it/s]\n"
     ]
    },
    {
     "name": "stdout",
     "output_type": "stream",
     "text": [
      "bucket 1\n",
      "[ PROCESSED TIME SERIES TO EQUAL TIME INTERVAL ]\n",
      "72\n"
     ]
    },
    {
     "name": "stderr",
     "output_type": "stream",
     "text": [
      "100%|███████████████████████████████████████████████████████████████████████████████████████████████████████████████████████| 21580/21580 [2:12:49<00:00,  2.71it/s]\n"
     ]
    },
    {
     "name": "stdout",
     "output_type": "stream",
     "text": [
      "[ SUCCESSFULLY SAVED DATA DICTIONARIES ]\n"
     ]
    }
   ],
   "source": [
    "if (radio_input6.value=='Custom'):\n",
    "    predW=int(text3.value)\n",
    "else:\n",
    "    predW=int(radio_input6.value[0].strip())\n",
    "if (radio_input7.value=='Custom'):\n",
    "    bucket=int(text1.value)\n",
    "else:\n",
    "    bucket=int(radio_input7.value[0].strip())\n",
    "if (radio_input8.value=='Custom'):\n",
    "    include=int(text2.value)\n",
    "else:\n",
    "    include=int(radio_input8.value.split()[1])\n",
    "if (radio_impute.value=='forward fill and mean'):\n",
    "    impute='Mean'\n",
    "elif (radio_impute.value=='forward fill and median'):\n",
    "    impute='Median'\n",
    "else:\n",
    "    impute=False\n",
    "\n",
    "if data_icu:\n",
    "    gen=data_generation_icu.Generator(cohort_output,data_mort,data_admn,data_los,diag_flag,proc_flag,out_flag,chart_flag,med_flag,impute,include,bucket,predW)\n",
    "    #gen=data_generation_icu.Generator(cohort_output,data_mort,diag_flag,False,False,chart_flag,False,impute,include,bucket,predW)\n",
    "    #if chart_flag:\n",
    "    #    gen=data_generation_icu.Generator(cohort_output,data_mort,False,False,False,chart_flag,False,impute,include,bucket,predW)\n",
    "else:\n",
    "    gen=data_generation.Generator(cohort_output,data_mort,data_admn,data_los,diag_flag,lab_flag,proc_flag,med_flag,impute,include,bucket,predW)"
   ]
  },
  {
   "cell_type": "code",
   "execution_count": 35,
   "id": "e8bf2550",
   "metadata": {},
   "outputs": [
    {
     "data": {
      "text/plain": [
       "21580"
      ]
     },
     "execution_count": 35,
     "metadata": {},
     "output_type": "execute_result"
    }
   ],
   "source": [
    "import pickle\n",
    "f = open('/home/av38898/projects/sdoh/MIMIC-IV-Data-Pipeline/data/dict/dataDic', 'rb')\n",
    "temp_data = pickle.load(f)\n",
    "len(temp_data.keys())"
   ]
  },
  {
   "cell_type": "code",
   "execution_count": 36,
   "id": "f72d741b",
   "metadata": {},
   "outputs": [
    {
     "data": {
      "text/plain": [
       "33987268"
      ]
     },
     "execution_count": 36,
     "metadata": {},
     "output_type": "execute_result"
    }
   ],
   "source": [
    "list(temp_data.keys())[0]"
   ]
  },
  {
   "cell_type": "code",
   "execution_count": 39,
   "id": "951d1513",
   "metadata": {},
   "outputs": [
    {
     "data": {
      "text/plain": [
       "dict_keys(['Cond', 'Proc', 'Med', 'Out', 'Chart', 'ethnicity', 'age', 'gender', 'label'])"
      ]
     },
     "execution_count": 39,
     "metadata": {},
     "output_type": "execute_result"
    }
   ],
   "source": [
    "temp_data[33987268].keys()"
   ]
  },
  {
   "cell_type": "code",
   "execution_count": 46,
   "id": "1a59814a",
   "metadata": {},
   "outputs": [
    {
     "data": {
      "text/plain": [
       "dict_keys(['signal', 'val'])"
      ]
     },
     "execution_count": 46,
     "metadata": {},
     "output_type": "execute_result"
    }
   ],
   "source": [
    "temp_data[33987268]['Chart'].keys()"
   ]
  },
  {
   "cell_type": "code",
   "execution_count": 49,
   "id": "2b8301d8",
   "metadata": {},
   "outputs": [
    {
     "name": "stdout",
     "output_type": "stream",
     "text": [
      "72.0\n",
      "7.0\n",
      "7.0\n",
      "70.0\n",
      "70.0\n",
      "71.0\n",
      "72.0\n",
      "3.0\n",
      "71.0\n",
      "3.0\n",
      "3.0\n",
      "4.0\n",
      "4.0\n",
      "3.0\n",
      "3.0\n",
      "4.0\n",
      "1.0\n",
      "7.0\n",
      "7.0\n",
      "19.0\n",
      "8.0\n",
      "7.0\n",
      "7.0\n",
      "15.0\n",
      "7.0\n",
      "7.0\n",
      "12.0\n",
      "12.0\n",
      "4.0\n",
      "3.0\n",
      "4.0\n",
      "3.0\n",
      "7.0\n",
      "1.0\n",
      "4.0\n",
      "4.0\n",
      "4.0\n",
      "3.0\n",
      "1.0\n",
      "1.0\n"
     ]
    }
   ],
   "source": [
    "signals = list(temp_data[33987268]['Chart']['signal'].keys())\n",
    "for s in signals:\n",
    "    print(sum(temp_data[33987268]['Chart']['signal'][s]))"
   ]
  },
  {
   "cell_type": "markdown",
   "id": "lined-reset",
   "metadata": {},
   "source": [
    "## 8. Machine Learning Models\n",
    "\n",
    "Below we provide options to select -\n",
    "- Type of machine learning model\n",
    "- Wheteher to concatenate or aggregate time-series features.\n",
    "    For example, if the EHR data has collected value for Blood Pressure for one year over 4 time windows of 3 months each then,\n",
    "    - **Conactenate** will concatenate all four values resulting in 4 different features for blood pressure,\n",
    "    - **Aggregate** will aggreagte(mean) over four tiem windows resulting in one feature for blood pressure."
   ]
  },
  {
   "cell_type": "code",
   "execution_count": 14,
   "id": "consolidated-former",
   "metadata": {},
   "outputs": [
    {
     "name": "stdout",
     "output_type": "stream",
     "text": [
      "=======Machine :earning Models=======\n"
     ]
    },
    {
     "data": {
      "application/vnd.jupyter.widget-view+json": {
       "model_id": "dc736b979c044a84a3348b8d17c936b3",
       "version_major": 2,
       "version_minor": 0
      },
      "text/plain": [
       "RadioButtons(index=2, options=('Logistic Regression', 'Random Forest', 'Gradient Bossting', 'Xgboost'), value=…"
      ]
     },
     "metadata": {},
     "output_type": "display_data"
    },
    {
     "name": "stdout",
     "output_type": "stream",
     "text": [
      "Do you wnat to conactenate the time-series feature\n"
     ]
    },
    {
     "data": {
      "application/vnd.jupyter.widget-view+json": {
       "model_id": "f8f67b6fe390466cb8565f91909d9825",
       "version_major": 2,
       "version_minor": 0
      },
      "text/plain": [
       "RadioButtons(options=('Conactenate', 'Aggregate'), value='Conactenate')"
      ]
     },
     "metadata": {},
     "output_type": "display_data"
    },
    {
     "name": "stdout",
     "output_type": "stream",
     "text": [
      "Please select below option for cross-validation\n"
     ]
    },
    {
     "data": {
      "application/vnd.jupyter.widget-view+json": {
       "model_id": "c9c36f7c64774ed6a0d0591056a39fc8",
       "version_major": 2,
       "version_minor": 0
      },
      "text/plain": [
       "RadioButtons(index=1, options=('No CV', '5-fold CV', '10-fold CV'), value='5-fold CV')"
      ]
     },
     "metadata": {},
     "output_type": "display_data"
    },
    {
     "name": "stdout",
     "output_type": "stream",
     "text": [
      "Do you want to do oversampling for minority calss ?\n"
     ]
    },
    {
     "data": {
      "application/vnd.jupyter.widget-view+json": {
       "model_id": "6006248cbfe84600974598218b4dd64a",
       "version_major": 2,
       "version_minor": 0
      },
      "text/plain": [
       "RadioButtons(options=('True', 'False'), value='True')"
      ]
     },
     "metadata": {},
     "output_type": "display_data"
    }
   ],
   "source": [
    "print(\"=======Machine :earning Models=======\")\n",
    "radio_input5 = widgets.RadioButtons(options=['Logistic Regression','Random Forest','Gradient Bossting','Xgboost'],value='Gradient Bossting')\n",
    "display(radio_input5)\n",
    "print(\"Do you wnat to conactenate the time-series feature\")\n",
    "radio_input6 = widgets.RadioButtons(options=['Conactenate','Aggregate'],value='Conactenate')\n",
    "display(radio_input6)\n",
    "print(\"Please select below option for cross-validation\")\n",
    "radio_input7 = widgets.RadioButtons(options=['No CV','5-fold CV','10-fold CV'],value='5-fold CV')\n",
    "display(radio_input7)\n",
    "print(\"Do you want to do oversampling for minority calss ?\")\n",
    "radio_input8 = widgets.RadioButtons(options=['True','False'],value='True')\n",
    "display(radio_input8)"
   ]
  },
  {
   "cell_type": "code",
   "execution_count": 101,
   "id": "promising-miller",
   "metadata": {
    "scrolled": true
   },
   "outputs": [
    {
     "name": "stdout",
     "output_type": "stream",
     "text": [
      "Total Samples 500\n",
      "Positive Samples 233\n",
      "=============OVERSAMPLING===============\n",
      "Total Samples 534\n",
      "Positive Samples 267\n",
      "=================== 0 FOLD=====================\n",
      "train_hids 424\n",
      "X_df (424, 21560)\n",
      "y_df (424,)\n",
      "(424, 21560)\n",
      "(424,)\n",
      "test_hids 106\n",
      "X_df (106, 21560)\n",
      "y_df (106,)\n",
      "(106, 21560)\n",
      "(106,)\n",
      "===============MODEL TRAINING===============\n",
      "BCE Loss: 1.38\n",
      "AU-ROC: 0.79\n",
      "AU-PRC: 0.85\n",
      "AU-PRC Baaseline: 0.55\n",
      "Accuracy: 0.75\n",
      "Precision: 0.82\n",
      "Recall: 0.71\n",
      "Specificity: 0.81\n",
      "NPV: 0.70\n",
      "ECE: 0.17\n",
      "MCE: 0.35\n"
     ]
    },
    {
     "data": {
      "image/png": "[encoded data removed]",
      "text/plain": [
       "<Figure size 576x432 with 1 Axes>"
      ]
     },
     "metadata": {
      "needs_background": "light"
     },
     "output_type": "display_data"
    },
    {
     "data": {
      "image/png": "[encoded data removed]",
      "text/plain": [
       "<Figure size 576x576 with 1 Axes>"
      ]
     },
     "metadata": {
      "needs_background": "light"
     },
     "output_type": "display_data"
    }
   ],
   "source": [
    "if radio_input7.value=='No CV':\n",
    "    cv=0\n",
    "elif radio_input7.value=='5-fold CV':\n",
    "    cv=int(5)\n",
    "elif radio_input7.value=='10-fold CV':\n",
    "    cv=int(10)\n",
    "ml=ml_models.ML_models(data_icu,cv,radio_input5.value,concat=radio_input6.value=='Conactenate',oversampling=radio_input8.value=='True')"
   ]
  },
  {
   "cell_type": "markdown",
   "id": "ordinary-chancellor",
   "metadata": {},
   "source": [
    "## 9. Deep Learning Models\n",
    "- Time-series LSTM and Time-series CNN which will only use time-series events like medications, charts, labs, output events to train model.\n",
    "\n",
    "- Hybrid LSTM and Hybrid CNN will use static data - diagnosis, demographic data aong with other time-series data to train model.\n",
    "\n",
    "- LSTM with Attention model will use attention layer to rank the important features and learn to predict output. It will use both static and time-series data.\n",
    "\n",
    "**Go to ./model/parameter.py and define all variables needed for model building and training**\n",
    "\n",
    "**Please run below cell to select which model to use**"
   ]
  },
  {
   "cell_type": "code",
   "execution_count": 104,
   "id": "operational-pride",
   "metadata": {},
   "outputs": [
    {
     "data": {
      "application/vnd.jupyter.widget-view+json": {
       "model_id": "d162f67f625a457c8a9801aa324f5be3",
       "version_major": 2,
       "version_minor": 0
      },
      "text/plain": [
       "RadioButtons(options=('Time-series LSTM', 'Time-series CNN', 'Hybrid LSTM', 'Hybrid CNN'), value='Time-series …"
      ]
     },
     "metadata": {},
     "output_type": "display_data"
    },
    {
     "name": "stdout",
     "output_type": "stream",
     "text": [
      "Please select below option for cross-validation\n"
     ]
    },
    {
     "data": {
      "application/vnd.jupyter.widget-view+json": {
       "model_id": "0a23df702c704ed5a63944d897653f56",
       "version_major": 2,
       "version_minor": 0
      },
      "text/plain": [
       "RadioButtons(index=1, options=('No CV', '5-fold CV', '10-fold CV'), value='5-fold CV')"
      ]
     },
     "metadata": {},
     "output_type": "display_data"
    },
    {
     "name": "stdout",
     "output_type": "stream",
     "text": [
      "Do you want to do oversampling for minority calss ?\n"
     ]
    },
    {
     "data": {
      "application/vnd.jupyter.widget-view+json": {
       "model_id": "f8f5b62f5a8c4641ab60a4cd150455c7",
       "version_major": 2,
       "version_minor": 0
      },
      "text/plain": [
       "RadioButtons(options=('True', 'False'), value='True')"
      ]
     },
     "metadata": {},
     "output_type": "display_data"
    }
   ],
   "source": [
    "radio_input6=widgets.RadioButtons(options=['Time-series LSTM','Time-series CNN','Hybrid LSTM','Hybrid CNN'],value='Time-series LSTM')\n",
    "display(radio_input6)\n",
    "print(\"Please select below option for cross-validation\")\n",
    "radio_input7 = widgets.RadioButtons(options=['No CV','5-fold CV','10-fold CV'],value='5-fold CV')\n",
    "display(radio_input7)\n",
    "print(\"Do you want to do oversampling for minority calss ?\")\n",
    "radio_input8 = widgets.RadioButtons(options=['True','False'],value='True')\n",
    "display(radio_input8)"
   ]
  },
  {
   "cell_type": "code",
   "execution_count": 159,
   "id": "golden-stewart",
   "metadata": {
    "scrolled": true
   },
   "outputs": [
    {
     "name": "stdout",
     "output_type": "stream",
     "text": [
      "===============MODEL TRAINING===============\n",
      "Total Samples 500\n",
      "Positive Samples 233\n",
      "[ MODEL CREATED ]\n",
      "LSTMBase(\n",
      "  (med): ValEmbed(\n",
      "    (codeEmbed): BatchNorm1d(163, eps=1e-05, momentum=0.1, affine=True, track_running_stats=True)\n",
      "    (fc): Linear(in_features=163, out_features=152, bias=True)\n",
      "  )\n",
      "  (proc): CodeEmbed(\n",
      "    (codeEmbed): Embedding(157, 52)\n",
      "    (fc): Linear(in_features=8164, out_features=152, bias=True)\n",
      "  )\n",
      "  (out): CodeEmbed(\n",
      "    (codeEmbed): Embedding(70, 52)\n",
      "    (fc): Linear(in_features=3640, out_features=152, bias=True)\n",
      "  )\n",
      "  (chart): ValEmbed(\n",
      "    (codeEmbed): BatchNorm1d(446, eps=1e-05, momentum=0.1, affine=True, track_running_stats=True)\n",
      "    (fc): Linear(in_features=446, out_features=152, bias=True)\n",
      "  )\n",
      "  (cond): StatEmbed(\n",
      "    (codeEmbed): Embedding(1492, 52)\n",
      "    (fc): Linear(in_features=77584, out_features=152, bias=True)\n",
      "  )\n",
      "  (ethEmbed): Embedding(9, 152, padding_idx=0)\n",
      "  (genderEmbed): Embedding(3, 152, padding_idx=0)\n",
      "  (ageEmbed): Embedding(74, 152, padding_idx=0)\n",
      "  (insEmbed): Embedding(4, 152, padding_idx=0)\n",
      "  (embedfc): Linear(in_features=1368, out_features=152, bias=True)\n",
      "  (rnn): LSTM(152, 256, num_layers=2, batch_first=True)\n",
      "  (fc1): Linear(in_features=256, out_features=128, bias=True)\n",
      "  (fc2): Linear(in_features=128, out_features=1, bias=True)\n",
      ")\n",
      "=================== 0 FOLD=====================\n",
      "======= EPOCH 0.0 ========\n",
      "BCE Loss: 1.30\n",
      "AU-ROC: 0.68\n",
      "AU-PRC: 0.63\n",
      "AU-PRC Baaseline: 0.47\n",
      "Accuracy: 0.64\n",
      "Precision: 0.60\n",
      "Recall: 0.70\n",
      "Specificity: 0.58\n",
      "NPV: 0.69\n",
      "ECE: 0.07\n",
      "MCE: 0.17\n",
      "======= VALIDATION ========\n",
      "BCE Loss: 1.26\n",
      "AU-ROC: 0.72\n",
      "AU-PRC: 0.77\n",
      "AU-PRC Baaseline: 0.53\n",
      "Accuracy: 0.70\n",
      "Precision: 0.74\n",
      "Recall: 0.67\n",
      "Specificity: 0.74\n",
      "NPV: 0.67\n",
      "ECE: 0.14\n",
      "MCE: 0.44\n",
      "Validation results improved\n",
      "Updating Model\n",
      "======= EPOCH 1.0 ========\n"
     ]
    },
    {
     "ename": "KeyboardInterrupt",
     "evalue": "",
     "output_type": "error",
     "traceback": [
      "\u001b[1;31m---------------------------------------------------------------------------\u001b[0m",
      "\u001b[1;31mKeyboardInterrupt\u001b[0m                         Traceback (most recent call last)",
      "\u001b[1;32m<ipython-input-159-22c6e1034467>\u001b[0m in \u001b[0;36m<module>\u001b[1;34m\u001b[0m\n\u001b[0;32m      7\u001b[0m \u001b[1;33m\u001b[0m\u001b[0m\n\u001b[0;32m      8\u001b[0m \u001b[1;32mif\u001b[0m \u001b[0mdata_icu\u001b[0m\u001b[1;33m:\u001b[0m\u001b[1;33m\u001b[0m\u001b[1;33m\u001b[0m\u001b[0m\n\u001b[1;32m----> 9\u001b[1;33m     \u001b[0mmodel\u001b[0m\u001b[1;33m=\u001b[0m\u001b[0mdl_train\u001b[0m\u001b[1;33m.\u001b[0m\u001b[0mDL_models\u001b[0m\u001b[1;33m(\u001b[0m\u001b[0mdata_icu\u001b[0m\u001b[1;33m,\u001b[0m\u001b[0mdiag_flag\u001b[0m\u001b[1;33m,\u001b[0m\u001b[0mproc_flag\u001b[0m\u001b[1;33m,\u001b[0m\u001b[0mout_flag\u001b[0m\u001b[1;33m,\u001b[0m\u001b[0mchart_flag\u001b[0m\u001b[1;33m,\u001b[0m\u001b[0mmed_flag\u001b[0m\u001b[1;33m,\u001b[0m\u001b[1;32mFalse\u001b[0m\u001b[1;33m,\u001b[0m\u001b[0mradio_input6\u001b[0m\u001b[1;33m.\u001b[0m\u001b[0mvalue\u001b[0m\u001b[1;33m,\u001b[0m\u001b[0mcv\u001b[0m\u001b[1;33m,\u001b[0m\u001b[0moversampling\u001b[0m\u001b[1;33m=\u001b[0m\u001b[0mradio_input8\u001b[0m\u001b[1;33m.\u001b[0m\u001b[0mvalue\u001b[0m\u001b[1;33m==\u001b[0m\u001b[1;34m'True'\u001b[0m\u001b[1;33m,\u001b[0m\u001b[0mmodel_name\u001b[0m\u001b[1;33m=\u001b[0m\u001b[1;34m'attn_icu_read'\u001b[0m\u001b[1;33m,\u001b[0m\u001b[0mtrain\u001b[0m\u001b[1;33m=\u001b[0m\u001b[1;32mTrue\u001b[0m\u001b[1;33m)\u001b[0m\u001b[1;33m\u001b[0m\u001b[1;33m\u001b[0m\u001b[0m\n\u001b[0m\u001b[0;32m     10\u001b[0m \u001b[1;32melse\u001b[0m\u001b[1;33m:\u001b[0m\u001b[1;33m\u001b[0m\u001b[1;33m\u001b[0m\u001b[0m\n\u001b[0;32m     11\u001b[0m     \u001b[0mmodel\u001b[0m\u001b[1;33m=\u001b[0m\u001b[0mdl_train\u001b[0m\u001b[1;33m.\u001b[0m\u001b[0mDL_models\u001b[0m\u001b[1;33m(\u001b[0m\u001b[0mdata_icu\u001b[0m\u001b[1;33m,\u001b[0m\u001b[0mdiag_flag\u001b[0m\u001b[1;33m,\u001b[0m\u001b[0mproc_flag\u001b[0m\u001b[1;33m,\u001b[0m\u001b[1;32mFalse\u001b[0m\u001b[1;33m,\u001b[0m\u001b[1;32mFalse\u001b[0m\u001b[1;33m,\u001b[0m\u001b[0mmed_flag\u001b[0m\u001b[1;33m,\u001b[0m\u001b[0mlab_flag\u001b[0m\u001b[1;33m,\u001b[0m\u001b[0mradio_input6\u001b[0m\u001b[1;33m.\u001b[0m\u001b[0mvalue\u001b[0m\u001b[1;33m,\u001b[0m\u001b[0mcv\u001b[0m\u001b[1;33m,\u001b[0m\u001b[0moversampling\u001b[0m\u001b[1;33m=\u001b[0m\u001b[0mradio_input8\u001b[0m\u001b[1;33m.\u001b[0m\u001b[0mvalue\u001b[0m\u001b[1;33m==\u001b[0m\u001b[1;34m'True'\u001b[0m\u001b[1;33m,\u001b[0m\u001b[0mmodel_name\u001b[0m\u001b[1;33m=\u001b[0m\u001b[1;34m'attn_icu_read'\u001b[0m\u001b[1;33m,\u001b[0m\u001b[0mtrain\u001b[0m\u001b[1;33m=\u001b[0m\u001b[1;32mTrue\u001b[0m\u001b[1;33m)\u001b[0m\u001b[1;33m\u001b[0m\u001b[1;33m\u001b[0m\u001b[0m\n",
      "\u001b[1;32m~\\Desktop\\MIMIC-IV-Data-Pipeline\\model\\dl_train.py\u001b[0m in \u001b[0;36m__init__\u001b[1;34m(self, data_icu, diag_flag, proc_flag, out_flag, chart_flag, med_flag, lab_flag, model_type, k_fold, oversampling, model_name, train)\u001b[0m\n\u001b[0;32m     81\u001b[0m         \u001b[1;32mif\u001b[0m \u001b[0mtrain\u001b[0m\u001b[1;33m:\u001b[0m\u001b[1;33m\u001b[0m\u001b[1;33m\u001b[0m\u001b[0m\n\u001b[0;32m     82\u001b[0m             \u001b[0mprint\u001b[0m\u001b[1;33m(\u001b[0m\u001b[1;34m\"===============MODEL TRAINING===============\"\u001b[0m\u001b[1;33m)\u001b[0m\u001b[1;33m\u001b[0m\u001b[1;33m\u001b[0m\u001b[0m\n\u001b[1;32m---> 83\u001b[1;33m             \u001b[0mself\u001b[0m\u001b[1;33m.\u001b[0m\u001b[0mdl_train\u001b[0m\u001b[1;33m(\u001b[0m\u001b[1;33m)\u001b[0m\u001b[1;33m\u001b[0m\u001b[1;33m\u001b[0m\u001b[0m\n\u001b[0m\u001b[0;32m     84\u001b[0m \u001b[1;33m\u001b[0m\u001b[0m\n\u001b[0;32m     85\u001b[0m         \u001b[1;32melse\u001b[0m\u001b[1;33m:\u001b[0m\u001b[1;33m\u001b[0m\u001b[1;33m\u001b[0m\u001b[0m\n",
      "\u001b[1;32m~\\Desktop\\MIMIC-IV-Data-Pipeline\\model\\dl_train.py\u001b[0m in \u001b[0;36mdl_train\u001b[1;34m(self)\u001b[0m\n\u001b[0;32m    162\u001b[0m                 \u001b[0mprint\u001b[0m\u001b[1;33m(\u001b[0m\u001b[1;34m\"======= EPOCH {:.1f} ========\"\u001b[0m\u001b[1;33m.\u001b[0m\u001b[0mformat\u001b[0m\u001b[1;33m(\u001b[0m\u001b[0mepoch\u001b[0m\u001b[1;33m)\u001b[0m\u001b[1;33m)\u001b[0m\u001b[1;33m\u001b[0m\u001b[1;33m\u001b[0m\u001b[0m\n\u001b[0;32m    163\u001b[0m                 \u001b[1;32mfor\u001b[0m \u001b[0mnbatch\u001b[0m \u001b[1;32min\u001b[0m \u001b[0mrange\u001b[0m\u001b[1;33m(\u001b[0m\u001b[0mint\u001b[0m\u001b[1;33m(\u001b[0m\u001b[0mlen\u001b[0m\u001b[1;33m(\u001b[0m\u001b[0mtrain_hids\u001b[0m\u001b[1;33m)\u001b[0m\u001b[1;33m/\u001b[0m\u001b[1;33m(\u001b[0m\u001b[0margs\u001b[0m\u001b[1;33m.\u001b[0m\u001b[0mbatch_size\u001b[0m\u001b[1;33m)\u001b[0m\u001b[1;33m)\u001b[0m\u001b[1;33m)\u001b[0m\u001b[1;33m:\u001b[0m\u001b[1;33m\u001b[0m\u001b[1;33m\u001b[0m\u001b[0m\n\u001b[1;32m--> 164\u001b[1;33m                     \u001b[0mmeds\u001b[0m\u001b[1;33m,\u001b[0m\u001b[0mchart\u001b[0m\u001b[1;33m,\u001b[0m\u001b[0mout\u001b[0m\u001b[1;33m,\u001b[0m\u001b[0mproc\u001b[0m\u001b[1;33m,\u001b[0m\u001b[0mlab\u001b[0m\u001b[1;33m,\u001b[0m\u001b[0mstat_train\u001b[0m\u001b[1;33m,\u001b[0m\u001b[0mdemo_train\u001b[0m\u001b[1;33m,\u001b[0m\u001b[0mY_train\u001b[0m\u001b[1;33m=\u001b[0m\u001b[0mself\u001b[0m\u001b[1;33m.\u001b[0m\u001b[0mgetXY\u001b[0m\u001b[1;33m(\u001b[0m\u001b[0mtrain_hids\u001b[0m\u001b[1;33m[\u001b[0m\u001b[0mnbatch\u001b[0m\u001b[1;33m*\u001b[0m\u001b[0margs\u001b[0m\u001b[1;33m.\u001b[0m\u001b[0mbatch_size\u001b[0m\u001b[1;33m:\u001b[0m\u001b[1;33m(\u001b[0m\u001b[0mnbatch\u001b[0m\u001b[1;33m+\u001b[0m\u001b[1;36m1\u001b[0m\u001b[1;33m)\u001b[0m\u001b[1;33m*\u001b[0m\u001b[0margs\u001b[0m\u001b[1;33m.\u001b[0m\u001b[0mbatch_size\u001b[0m\u001b[1;33m]\u001b[0m\u001b[1;33m,\u001b[0m\u001b[0mlabels\u001b[0m\u001b[1;33m)\u001b[0m\u001b[1;33m\u001b[0m\u001b[1;33m\u001b[0m\u001b[0m\n\u001b[0m\u001b[0;32m    165\u001b[0m \u001b[1;31m#                     print(chart.shape)\u001b[0m\u001b[1;33m\u001b[0m\u001b[1;33m\u001b[0m\u001b[1;33m\u001b[0m\u001b[0m\n\u001b[0;32m    166\u001b[0m \u001b[1;31m#                     print(meds.shape)\u001b[0m\u001b[1;33m\u001b[0m\u001b[1;33m\u001b[0m\u001b[1;33m\u001b[0m\u001b[0m\n",
      "\u001b[1;32m~\\Desktop\\MIMIC-IV-Data-Pipeline\\model\\dl_train.py\u001b[0m in \u001b[0;36mgetXY\u001b[1;34m(self, ids, labels)\u001b[0m\n\u001b[0;32m    315\u001b[0m \u001b[1;31m#                 print(\"key\",key)\u001b[0m\u001b[1;33m\u001b[0m\u001b[1;33m\u001b[0m\u001b[1;33m\u001b[0m\u001b[0m\n\u001b[0;32m    316\u001b[0m \u001b[1;31m#                 print(\"keys[key]\",keys[key])\u001b[0m\u001b[1;33m\u001b[0m\u001b[1;33m\u001b[0m\u001b[1;33m\u001b[0m\u001b[0m\n\u001b[1;32m--> 317\u001b[1;33m                 \u001b[0mdyn_temp\u001b[0m\u001b[1;33m=\u001b[0m\u001b[0mdyn\u001b[0m\u001b[1;33m[\u001b[0m\u001b[0mkeys\u001b[0m\u001b[1;33m[\u001b[0m\u001b[0mkey\u001b[0m\u001b[1;33m]\u001b[0m\u001b[1;33m]\u001b[0m\u001b[1;33m\u001b[0m\u001b[1;33m\u001b[0m\u001b[0m\n\u001b[0m\u001b[0;32m    318\u001b[0m                 \u001b[0mdyn_temp\u001b[0m\u001b[1;33m=\u001b[0m\u001b[0mdyn_temp\u001b[0m\u001b[1;33m.\u001b[0m\u001b[0mto_numpy\u001b[0m\u001b[1;33m(\u001b[0m\u001b[1;33m)\u001b[0m\u001b[1;33m\u001b[0m\u001b[1;33m\u001b[0m\u001b[0m\n\u001b[0;32m    319\u001b[0m                 \u001b[0mdyn_temp\u001b[0m\u001b[1;33m=\u001b[0m\u001b[0mtorch\u001b[0m\u001b[1;33m.\u001b[0m\u001b[0mtensor\u001b[0m\u001b[1;33m(\u001b[0m\u001b[0mdyn_temp\u001b[0m\u001b[1;33m)\u001b[0m\u001b[1;33m\u001b[0m\u001b[1;33m\u001b[0m\u001b[0m\n",
      "\u001b[1;32m~\\Anaconda3\\envs\\DSRA\\lib\\site-packages\\pandas\\core\\frame.py\u001b[0m in \u001b[0;36m__getitem__\u001b[1;34m(self, key)\u001b[0m\n\u001b[0;32m   2773\u001b[0m             \u001b[1;32mif\u001b[0m \u001b[0mself\u001b[0m\u001b[1;33m.\u001b[0m\u001b[0mcolumns\u001b[0m\u001b[1;33m.\u001b[0m\u001b[0mis_unique\u001b[0m \u001b[1;32mand\u001b[0m \u001b[0mkey\u001b[0m \u001b[1;32min\u001b[0m \u001b[0mself\u001b[0m\u001b[1;33m.\u001b[0m\u001b[0mcolumns\u001b[0m\u001b[1;33m:\u001b[0m\u001b[1;33m\u001b[0m\u001b[1;33m\u001b[0m\u001b[0m\n\u001b[0;32m   2774\u001b[0m                 \u001b[1;32mif\u001b[0m \u001b[0mself\u001b[0m\u001b[1;33m.\u001b[0m\u001b[0mcolumns\u001b[0m\u001b[1;33m.\u001b[0m\u001b[0mnlevels\u001b[0m \u001b[1;33m>\u001b[0m \u001b[1;36m1\u001b[0m\u001b[1;33m:\u001b[0m\u001b[1;33m\u001b[0m\u001b[1;33m\u001b[0m\u001b[0m\n\u001b[1;32m-> 2775\u001b[1;33m                     \u001b[1;32mreturn\u001b[0m \u001b[0mself\u001b[0m\u001b[1;33m.\u001b[0m\u001b[0m_getitem_multilevel\u001b[0m\u001b[1;33m(\u001b[0m\u001b[0mkey\u001b[0m\u001b[1;33m)\u001b[0m\u001b[1;33m\u001b[0m\u001b[1;33m\u001b[0m\u001b[0m\n\u001b[0m\u001b[0;32m   2776\u001b[0m                 \u001b[1;32mreturn\u001b[0m \u001b[0mself\u001b[0m\u001b[1;33m.\u001b[0m\u001b[0m_get_item_cache\u001b[0m\u001b[1;33m(\u001b[0m\u001b[0mkey\u001b[0m\u001b[1;33m)\u001b[0m\u001b[1;33m\u001b[0m\u001b[1;33m\u001b[0m\u001b[0m\n\u001b[0;32m   2777\u001b[0m \u001b[1;33m\u001b[0m\u001b[0m\n",
      "\u001b[1;32m~\\Anaconda3\\envs\\DSRA\\lib\\site-packages\\pandas\\core\\frame.py\u001b[0m in \u001b[0;36m_getitem_multilevel\u001b[1;34m(self, key)\u001b[0m\n\u001b[0;32m   2847\u001b[0m     \u001b[1;32mdef\u001b[0m \u001b[0m_getitem_multilevel\u001b[0m\u001b[1;33m(\u001b[0m\u001b[0mself\u001b[0m\u001b[1;33m,\u001b[0m \u001b[0mkey\u001b[0m\u001b[1;33m)\u001b[0m\u001b[1;33m:\u001b[0m\u001b[1;33m\u001b[0m\u001b[1;33m\u001b[0m\u001b[0m\n\u001b[0;32m   2848\u001b[0m         \u001b[1;31m# self.columns is a MultiIndex\u001b[0m\u001b[1;33m\u001b[0m\u001b[1;33m\u001b[0m\u001b[1;33m\u001b[0m\u001b[0m\n\u001b[1;32m-> 2849\u001b[1;33m         \u001b[0mloc\u001b[0m \u001b[1;33m=\u001b[0m \u001b[0mself\u001b[0m\u001b[1;33m.\u001b[0m\u001b[0mcolumns\u001b[0m\u001b[1;33m.\u001b[0m\u001b[0mget_loc\u001b[0m\u001b[1;33m(\u001b[0m\u001b[0mkey\u001b[0m\u001b[1;33m)\u001b[0m\u001b[1;33m\u001b[0m\u001b[1;33m\u001b[0m\u001b[0m\n\u001b[0m\u001b[0;32m   2850\u001b[0m         \u001b[1;32mif\u001b[0m \u001b[0misinstance\u001b[0m\u001b[1;33m(\u001b[0m\u001b[0mloc\u001b[0m\u001b[1;33m,\u001b[0m \u001b[1;33m(\u001b[0m\u001b[0mslice\u001b[0m\u001b[1;33m,\u001b[0m \u001b[0mSeries\u001b[0m\u001b[1;33m,\u001b[0m \u001b[0mnp\u001b[0m\u001b[1;33m.\u001b[0m\u001b[0mndarray\u001b[0m\u001b[1;33m,\u001b[0m \u001b[0mIndex\u001b[0m\u001b[1;33m)\u001b[0m\u001b[1;33m)\u001b[0m\u001b[1;33m:\u001b[0m\u001b[1;33m\u001b[0m\u001b[1;33m\u001b[0m\u001b[0m\n\u001b[0;32m   2851\u001b[0m             \u001b[0mnew_columns\u001b[0m \u001b[1;33m=\u001b[0m \u001b[0mself\u001b[0m\u001b[1;33m.\u001b[0m\u001b[0mcolumns\u001b[0m\u001b[1;33m[\u001b[0m\u001b[0mloc\u001b[0m\u001b[1;33m]\u001b[0m\u001b[1;33m\u001b[0m\u001b[1;33m\u001b[0m\u001b[0m\n",
      "\u001b[1;32m~\\Anaconda3\\envs\\DSRA\\lib\\site-packages\\pandas\\core\\indexes\\multi.py\u001b[0m in \u001b[0;36mget_loc\u001b[1;34m(self, key, method)\u001b[0m\n\u001b[0;32m   2651\u001b[0m         \u001b[1;32mif\u001b[0m \u001b[1;32mnot\u001b[0m \u001b[0misinstance\u001b[0m\u001b[1;33m(\u001b[0m\u001b[0mkey\u001b[0m\u001b[1;33m,\u001b[0m \u001b[1;33m(\u001b[0m\u001b[0mtuple\u001b[0m\u001b[1;33m,\u001b[0m \u001b[0mlist\u001b[0m\u001b[1;33m)\u001b[0m\u001b[1;33m)\u001b[0m\u001b[1;33m:\u001b[0m\u001b[1;33m\u001b[0m\u001b[1;33m\u001b[0m\u001b[0m\n\u001b[0;32m   2652\u001b[0m             \u001b[1;31m# not including list here breaks some indexing, xref #30892\u001b[0m\u001b[1;33m\u001b[0m\u001b[1;33m\u001b[0m\u001b[1;33m\u001b[0m\u001b[0m\n\u001b[1;32m-> 2653\u001b[1;33m             \u001b[0mloc\u001b[0m \u001b[1;33m=\u001b[0m \u001b[0mself\u001b[0m\u001b[1;33m.\u001b[0m\u001b[0m_get_level_indexer\u001b[0m\u001b[1;33m(\u001b[0m\u001b[0mkey\u001b[0m\u001b[1;33m,\u001b[0m \u001b[0mlevel\u001b[0m\u001b[1;33m=\u001b[0m\u001b[1;36m0\u001b[0m\u001b[1;33m)\u001b[0m\u001b[1;33m\u001b[0m\u001b[1;33m\u001b[0m\u001b[0m\n\u001b[0m\u001b[0;32m   2654\u001b[0m             \u001b[1;32mreturn\u001b[0m \u001b[0m_maybe_to_slice\u001b[0m\u001b[1;33m(\u001b[0m\u001b[0mloc\u001b[0m\u001b[1;33m)\u001b[0m\u001b[1;33m\u001b[0m\u001b[1;33m\u001b[0m\u001b[0m\n\u001b[0;32m   2655\u001b[0m \u001b[1;33m\u001b[0m\u001b[0m\n",
      "\u001b[1;32m~\\Anaconda3\\envs\\DSRA\\lib\\site-packages\\pandas\\core\\indexes\\multi.py\u001b[0m in \u001b[0;36m_get_level_indexer\u001b[1;34m(self, key, level, indexer)\u001b[0m\n\u001b[0;32m   2922\u001b[0m             \u001b[1;32mif\u001b[0m \u001b[0mlevel\u001b[0m \u001b[1;33m>\u001b[0m \u001b[1;36m0\u001b[0m \u001b[1;32mor\u001b[0m \u001b[0mself\u001b[0m\u001b[1;33m.\u001b[0m\u001b[0mlexsort_depth\u001b[0m \u001b[1;33m==\u001b[0m \u001b[1;36m0\u001b[0m\u001b[1;33m:\u001b[0m\u001b[1;33m\u001b[0m\u001b[1;33m\u001b[0m\u001b[0m\n\u001b[0;32m   2923\u001b[0m                 \u001b[1;31m# Desired level is not sorted\u001b[0m\u001b[1;33m\u001b[0m\u001b[1;33m\u001b[0m\u001b[1;33m\u001b[0m\u001b[0m\n\u001b[1;32m-> 2924\u001b[1;33m                 \u001b[0mlocs\u001b[0m \u001b[1;33m=\u001b[0m \u001b[0mnp\u001b[0m\u001b[1;33m.\u001b[0m\u001b[0marray\u001b[0m\u001b[1;33m(\u001b[0m\u001b[0mlevel_codes\u001b[0m \u001b[1;33m==\u001b[0m \u001b[0mcode\u001b[0m\u001b[1;33m,\u001b[0m \u001b[0mdtype\u001b[0m\u001b[1;33m=\u001b[0m\u001b[0mbool\u001b[0m\u001b[1;33m,\u001b[0m \u001b[0mcopy\u001b[0m\u001b[1;33m=\u001b[0m\u001b[1;32mFalse\u001b[0m\u001b[1;33m)\u001b[0m\u001b[1;33m\u001b[0m\u001b[1;33m\u001b[0m\u001b[0m\n\u001b[0m\u001b[0;32m   2925\u001b[0m                 \u001b[1;32mif\u001b[0m \u001b[1;32mnot\u001b[0m \u001b[0mlocs\u001b[0m\u001b[1;33m.\u001b[0m\u001b[0many\u001b[0m\u001b[1;33m(\u001b[0m\u001b[1;33m)\u001b[0m\u001b[1;33m:\u001b[0m\u001b[1;33m\u001b[0m\u001b[1;33m\u001b[0m\u001b[0m\n\u001b[0;32m   2926\u001b[0m                     \u001b[1;31m# The label is present in self.levels[level] but unused:\u001b[0m\u001b[1;33m\u001b[0m\u001b[1;33m\u001b[0m\u001b[1;33m\u001b[0m\u001b[0m\n",
      "\u001b[1;31mKeyboardInterrupt\u001b[0m: "
     ]
    },
    {
     "data": {
      "image/png": "[encoded data removed]",
      "text/plain": [
       "<Figure size 576x432 with 1 Axes>"
      ]
     },
     "metadata": {
      "needs_background": "light"
     },
     "output_type": "display_data"
    },
    {
     "data": {
      "image/png": "[encoded data removed]",
      "text/plain": [
       "<Figure size 576x576 with 1 Axes>"
      ]
     },
     "metadata": {
      "needs_background": "light"
     },
     "output_type": "display_data"
    },
    {
     "data": {
      "image/png": "[encoded data removed]",
      "text/plain": [
       "<Figure size 576x432 with 1 Axes>"
      ]
     },
     "metadata": {
      "needs_background": "light"
     },
     "output_type": "display_data"
    },
    {
     "data": {
      "image/png": "[encoded data removed]",
      "text/plain": [
       "<Figure size 576x576 with 1 Axes>"
      ]
     },
     "metadata": {
      "needs_background": "light"
     },
     "output_type": "display_data"
    }
   ],
   "source": [
    "if radio_input7.value=='No CV':\n",
    "    cv=0\n",
    "elif radio_input7.value=='5-fold CV':\n",
    "    cv=int(5)\n",
    "elif radio_input7.value=='10-fold CV':\n",
    "    cv=int(10)\n",
    "    \n",
    "if data_icu:\n",
    "    model=dl_train.DL_models(data_icu,diag_flag,proc_flag,out_flag,chart_flag,med_flag,False,radio_input6.value,cv,oversampling=radio_input8.value=='True',model_name='attn_icu_read',train=True)\n",
    "else:\n",
    "    model=dl_train.DL_models(data_icu,diag_flag,proc_flag,False,False,med_flag,lab_flag,radio_input6.value,cv,oversampling=radio_input8.value=='True',model_name='attn_icu_read',train=True)"
   ]
  },
  {
   "cell_type": "markdown",
   "id": "driven-factor",
   "metadata": {},
   "source": [
    "## 10. Running BEHRT\n",
    "Below we integrate the implementation of BEHRT in our pipeline.\n",
    "We perform pre-procesing needed to run BEHRT model. https://github.com/deepmedicine/BEHRT\n",
    "\n",
    "Few things to note before running BEHRT -\n",
    "- The numerical values are binned into quantiles.\n",
    "- BEHRT has recommended maximum number of events per sample to be 512. \n",
    "    So feature selection is important so that number of events per sample does not exceed 512.\n",
    "- The model is quite computationally heavy so it requires a GPU.\n",
    "\n",
    "The output files for BEHRT will be saved in ./data/behrt/ folder\n",
    "\n",
    "**Please run below cell to to pre-process and run BEHRT on the selected cohort**"
   ]
  },
  {
   "cell_type": "code",
   "execution_count": null,
   "id": "aggressive-break",
   "metadata": {},
   "outputs": [],
   "source": [
    "if data_icu:\n",
    "    token=tokenization.BEHRT_models(data_icu,diag_flag,proc_flag,out_flag,chart_flag,med_flag,False)\n",
    "    tokenized_src, tokenized_age, tokenized_gender, tokenized_ethni, tokenized_ins, tokenized_labels=token.tokenize()\n",
    "else:\n",
    "    token=tokenization.BEHRT_models(data_icu,diag_flag,proc_flag,False,False,med_flag,lab_flag)\n",
    "    tokenized_src, tokenized_age, tokenized_gender, tokenized_ethni, tokenized_ins, tokenized_labels=token.tokenize()\n",
    "    \n",
    "behrt_train.train_behrt(tokenized_src, tokenized_age, tokenized_gender, tokenized_ethni, tokenized_ins, tokenized_labels)"
   ]
  },
  {
   "cell_type": "markdown",
   "id": "reserved-objective",
   "metadata": {},
   "source": [
    "### EVALUATION AS STANDALONE MODULE\n",
    "Below cell shows an exaple of how evaluation module can be used as a standalone module.\n",
    "\n",
    "evaluation.Loss class can be instantiated and model output and ground truth can be passed to it to obtain results.\n",
    "\n",
    "In the example below we captured model output and ground truth in a file and used that file to read the data.\n",
    "\n",
    "In function definition ***loss(prob,truth,logits,False)***\n",
    "\n",
    "prob -> List of Output predicted probabilities of case being positive\n",
    "\n",
    "truth -> List of ground truth labels\n",
    "\n",
    "logits -> List of logits obtained from last fully connected layer before applying softmax.sigmoid function in the model."
   ]
  },
  {
   "cell_type": "code",
   "execution_count": null,
   "id": "streaming-integration",
   "metadata": {},
   "outputs": [],
   "source": [
    "if torch.cuda.is_available():\n",
    "    device='cuda:0'\n",
    "#device='cpu'\n",
    "loss=evaluation.Loss(device,acc=True,ppv=True,sensi=True,tnr=True,npv=True,auroc=True,aurocPlot=True,auprc=True,auprcPlot=True,callb=True,callbPlot=True)\n",
    "with open(\"./data/output/outputDict\", 'rb') as fp:\n",
    "    outputDict=pickle.load(fp)\n",
    "prob=list(outputDict['Prob'])\n",
    "truth=list(outputDict['Labels'])\n",
    "logits=list(outputDict['Logits'])\n",
    "#print(torch.tensor(prob))\n",
    "print(\"======= TESTING ========\")\n",
    "loss(prob,truth,logits,train=False,standalone=True)\n"
   ]
  },
  {
   "cell_type": "markdown",
   "id": "designing-works",
   "metadata": {},
   "source": [
    "### 11. FAIRNESS EVALUATION\n",
    "In train and testing step we save output files in **./data/output/** folder.\n",
    "\n",
    "This file conatins list of demographic variables included in training and testing of the model.\n",
    "\n",
    "It also contains the ground truth labels and predicted probability for each sample.\n",
    "\n",
    "We use the above saved data to perform fairness evaluation of the results obtained from model testing.\n",
    "\n",
    "This module can be used as stand-alone module also.\n",
    "\n",
    "Please create a file that contains predicted probabilites form the last sigmoid layer in column named **Prob** and\n",
    "ground truth labels for each sample in column named **Labels**."
   ]
  },
  {
   "cell_type": "code",
   "execution_count": null,
   "id": "civilian-direction",
   "metadata": {},
   "outputs": [],
   "source": [
    "fairness.fairness_evaluation(inputFile='outputDict',outputFile='fairnessReport')"
   ]
  },
  {
   "cell_type": "markdown",
   "id": "efficient-distinction",
   "metadata": {},
   "source": [
    "### 12. MODEL CALLIBRATION\n",
    "\n",
    "Please run below cell if you want to callibrate predicted probabilites of the model on test data.\n",
    "It will use the output saved during the testing of the model.\n",
    "\n",
    "The file is saved in **./data/output/**.\n",
    "\n",
    "This module can be used as stand-alone module also.\n",
    "\n",
    "Please create a file that contain predicted logits form the last fully connected layer in column named **Logits** and <br>ground truth labels for each sample in a column named **Labels**."
   ]
  },
  {
   "cell_type": "code",
   "execution_count": null,
   "id": "secure-flavor",
   "metadata": {},
   "outputs": [],
   "source": [
    "callibrate_output.callibrate(inputFile='outputDict',outputFile='callibratedResults')"
   ]
  },
  {
   "cell_type": "code",
   "execution_count": null,
   "id": "fleet-canyon",
   "metadata": {},
   "outputs": [],
   "source": []
  }
 ],
 "metadata": {
  "hide_input": false,
  "kernelspec": {
   "display_name": "Python 3 (ipykernel)",
   "language": "python",
   "name": "python3"
  }
 },
 "nbformat": 4,
 "nbformat_minor": 5
}
